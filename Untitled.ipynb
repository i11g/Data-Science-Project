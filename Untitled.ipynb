{
 "cells": [
  {
   "cell_type": "code",
   "execution_count": 9,
   "id": "3bcd0a39-557a-42c8-9705-6c867dbff167",
   "metadata": {},
   "outputs": [],
   "source": [
    "import numpy as np\n",
    "import pandas as pd\n",
    "import matplotlib.pyplot as plt"
   ]
  },
  {
   "cell_type": "code",
   "execution_count": 26,
   "id": "59efd1b7-5eb0-46d5-9730-fc3b199591e2",
   "metadata": {},
   "outputs": [],
   "source": [
    "df_rank_1=pd.read_csv(\"QS World University Rankings 2019.csv\")"
   ]
  },
  {
   "cell_type": "code",
   "execution_count": 32,
   "id": "e18aec3c-8f31-466b-8b39-c8d03e908794",
   "metadata": {},
   "outputs": [
    {
     "data": {
      "text/plain": [
       "year              int64\n",
       "rank_display     object\n",
       "university       object\n",
       "score           float64\n",
       "link             object\n",
       "country          object\n",
       "city             object\n",
       "region           object\n",
       "logo             object\n",
       "dtype: object"
      ]
     },
     "execution_count": 32,
     "metadata": {},
     "output_type": "execute_result"
    }
   ],
   "source": [
    "df_rank_1.dtypes"
   ]
  },
  {
   "cell_type": "code",
   "execution_count": 35,
   "id": "d885081c-3816-4a9e-980a-c13f323c7f6f",
   "metadata": {},
   "outputs": [
    {
     "data": {
      "text/plain": [
       "year              0\n",
       "rank_display     20\n",
       "university        0\n",
       "score           515\n",
       "link              0\n",
       "country           0\n",
       "city             25\n",
       "region            0\n",
       "logo              0\n",
       "dtype: int64"
      ]
     },
     "execution_count": 35,
     "metadata": {},
     "output_type": "execute_result"
    }
   ],
   "source": [
    "df_rank_1.isna().sum()"
   ]
  },
  {
   "cell_type": "code",
   "execution_count": null,
   "id": "9987f239-0568-4a83-adaa-6d2a2ee805ac",
   "metadata": {},
   "outputs": [],
   "source": [
    "duplicate_rank = df_rank_uni[df_rank_uni.duplicated()]\n",
    "duplicate_gdp = df_gdp[df_gdp.duplicated()]\n",
    "\n",
    "print(\"\\nDuplicate rows in Ranking Dataset:\")\n",
    "print(duplicate_rank)\n",
    "\n",
    "print(\"\\n Duplicate rows in GDP Dataset:\")\n",
    "print(duplicate_gdp)    "
   ]
  },
  {
   "cell_type": "code",
   "execution_count": null,
   "id": "56f5bbd1-bb16-4576-a5f9-e21841cbbf80",
   "metadata": {},
   "outputs": [],
   "source": [
    "print(\"Duplicate Rows in Ranking Dataset:\", df_rank.duplicated().sum())\n",
    "print(\"Duplicate Rows in GDP Dataset:\", df_gdp.duplicated().sum())"
   ]
  },
  {
   "cell_type": "code",
   "execution_count": 54,
   "id": "fa381a97-a533-4286-97b5-1e331a8d844d",
   "metadata": {},
   "outputs": [],
   "source": [
    "df_rank_clean = df_rank_1.reset_index(drop=True).copy()\n",
    "missing_idx = np.where(df_rank_clean['score'].isna())[0]\n",
    "n = len(df_rank_clean)\n",
    "\n",
    "for i in missing_idx:\n",
    "    left  = df_rank_clean['score'].iloc[i-1] if i-1 >= 0 else np.nan\n",
    "    right = df_rank_clean['score'].iloc[i+1] if i+1 < n   else np.nan\n",
    "    df_rank_clean.at[i, 'score'] = np.nanmean([left, right])\n",
    "\n",
    "# In case both neighbors were NaN:\n",
    "df_rank_clean['score'] = df_rank_clean['score'].interpolate(limit_direction='both')"
   ]
  },
  {
   "cell_type": "code",
   "execution_count": 56,
   "id": "9ec2facd-2d84-4435-b02a-f2f4fa61a9a5",
   "metadata": {},
   "outputs": [],
   "source": [
    "df_rank_clean_2.to_csv(\"df_rank_clean_new_2.csv\", index = False)"
   ]
  },
  {
   "cell_type": "code",
   "execution_count": null,
   "id": "fb0c0254-b42e-47ff-9b0f-da825d2c6a30",
   "metadata": {},
   "outputs": [],
   "source": [
    "import matplotlib.pyplot as plt\n",
    "import seaborn as sns\n",
    "\n",
    "def plot_top10_all_years(df_clean):\n",
    "    # Calculate average score per country-year\n",
    "    avg_score = (\n",
    "        df_clean.groupby([\"country\", \"year\"], as_index=False)[\"score\"]\n",
    "        .mean()\n",
    "        .rename(columns={\"score\": \"avg_score\"})\n",
    "    )\n",
    "\n",
    "    # Get top 10 per year\n",
    "    top10_per_year = (\n",
    "        avg_score.sort_values([\"year\", \"avg_score\"], ascending=[True, False])\n",
    "        .groupby(\"year\")\n",
    "        .head(10)\n",
    "    )\n",
    "\n",
    "    # Get unique years sorted\n",
    "    years = sorted(top10_per_year[\"year\"].unique())\n",
    "    n_years = len(years)\n",
    "\n",
    "    # Set up subplot grid\n",
    "    fig, axes = plt.subplots(\n",
    "        nrows=n_years, ncols=1, figsize=(10, 4 * n_years), constrained_layout=True\n",
    "    )\n",
    "\n",
    "    # In case there is only one year (avoid iterable error)\n",
    "    if n_years == 1:\n",
    "        axes = [axes]\n",
    "\n",
    "    # Plot each year's top 10\n",
    "    for ax, year in zip(axes, years):\n",
    "        data = top10_per_year[top10_per_year[\"year\"] == year]\n",
    "        sns.barplot(\n",
    "            data=data,\n",
    "            x=\"avg_score\",\n",
    "            y=\"country\",\n",
    "            palette=\"viridis\",\n",
    "            ax=ax\n",
    "        )\n",
    "        ax.set_title(f\"Top 10 Countries by Average Score ({year})\", fontsize=14)\n",
    "        ax.set_xlabel(\"Average Score\")\n",
    "        ax.set_ylabel(\"Country\")\n",
    "\n",
    "    plt.show()"
   ]
  },
  {
   "cell_type": "code",
   "execution_count": null,
   "id": "e8453375-cd63-4879-a292-038fe5eb609f",
   "metadata": {},
   "outputs": [],
   "source": [
    "plot_top10_all_years(df_clean)"
   ]
  }
 ],
 "metadata": {
  "kernelspec": {
   "display_name": "Python (myenv)",
   "language": "python",
   "name": "myenv"
  },
  "language_info": {
   "codemirror_mode": {
    "name": "ipython",
    "version": 3
   },
   "file_extension": ".py",
   "mimetype": "text/x-python",
   "name": "python",
   "nbconvert_exporter": "python",
   "pygments_lexer": "ipython3",
   "version": "3.12.3"
  }
 },
 "nbformat": 4,
 "nbformat_minor": 5
}
