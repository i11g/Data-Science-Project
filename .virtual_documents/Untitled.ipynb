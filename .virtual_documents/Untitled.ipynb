import numpy as np
import pandas as pd
import matplotlib.pyplot as plt


df_rank_1=pd.read_csv("QS World University Rankings 2019.csv")


df_rank_1.dtypes


df_rank_1.isna().sum()


duplicate_rank = df_rank_uni[df_rank_uni.duplicated()]
duplicate_gdp = df_gdp[df_gdp.duplicated()]

print("\nDuplicate rows in Ranking Dataset:")
print(duplicate_rank)

print("\n Duplicate rows in GDP Dataset:")
print(duplicate_gdp)    


print("Duplicate Rows in Ranking Dataset:", df_rank.duplicated().sum())
print("Duplicate Rows in GDP Dataset:", df_gdp.duplicated().sum())


df_rank_clean = df_rank_1.reset_index(drop=True).copy()
missing_idx = np.where(df_rank_clean['score'].isna())[0]
n = len(df_rank_clean)

for i in missing_idx:
    left  = df_rank_clean['score'].iloc[i-1] if i-1 >= 0 else np.nan
    right = df_rank_clean['score'].iloc[i+1] if i+1 < n   else np.nan
    df_rank_clean.at[i, 'score'] = np.nanmean([left, right])

# In case both neighbors were NaN:
df_rank_clean['score'] = df_rank_clean['score'].interpolate(limit_direction='both')


df_rank_clean_2.to_csv("df_rank_clean_new_2.csv", index = False)


import matplotlib.pyplot as plt
import seaborn as sns

def plot_top10_all_years(df_clean):
    # Calculate average score per country-year
    avg_score = (
        df_clean.groupby(["country", "year"], as_index=False)["score"]
        .mean()
        .rename(columns={"score": "avg_score"})
    )

    # Get top 10 per year
    top10_per_year = (
        avg_score.sort_values(["year", "avg_score"], ascending=[True, False])
        .groupby("year")
        .head(10)
    )

    # Get unique years sorted
    years = sorted(top10_per_year["year"].unique())
    n_years = len(years)

    # Set up subplot grid
    fig, axes = plt.subplots(
        nrows=n_years, ncols=1, figsize=(10, 4 * n_years), constrained_layout=True
    )

    # In case there is only one year (avoid iterable error)
    if n_years == 1:
        axes = [axes]

    # Plot each year's top 10
    for ax, year in zip(axes, years):
        data = top10_per_year[top10_per_year["year"] == year]
        sns.barplot(
            data=data,
            x="avg_score",
            y="country",
            palette="viridis",
            ax=ax
        )
        ax.set_title(f"Top 10 Countries by Average Score ({year})", fontsize=14)
        ax.set_xlabel("Average Score")
        ax.set_ylabel("Country")

    plt.show()


plot_top10_all_years(df_clean)
