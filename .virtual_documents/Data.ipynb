import numpy as np
import pandas as pd
import matplotlib.pyplot as plt
import re
from statsmodels.tsa.holtwinters import SimpleExpSmoothing, ExponentialSmoothing
from statsmodels.tsa.arima.model import ARIMA















































# Load dataset
df_rank = pd.read_csv("data/world-university-rankings-2017-to-2022.csv")


# Display basic information
df_rank.info()


df_rank.describe().T


df_rank.head()


num_countries_rank = df_rank['country'].nunique()
num_years_rank = df_rank['year'].nunique()

print(f"Ranking Dataset: {num_countries_rank} countries, {num_years_rank} years")


print("Missing Values in Ranking Dataset:")
print(df_rank.isnull().sum())


# Convert rank_display to numeric 
df_rank['rank_display'] = pd.to_numeric(df_rank['rank_display'], errors='coerce')

# Filter top 300 universities for each year
df_top300 = df_rank[df_rank['rank_display'] <= 300]

# Count missing scores
missing_count = df_top300['score'].isna().sum()
total_count = len(df_top300)
missing_percentage = (missing_count / total_count) * 100

print(f"Total entries in top 300: {total_count}")
print(f"Missing score entries: {missing_count}")
print(f"Missing percentage: {missing_percentage:.2f}%")

# check missing by year
missing_by_year = df_top300.groupby('year')['score'].apply(lambda x: x.isna().sum())
print("\nMissing scores by year:")
print(missing_by_year)


df_top300.to_csv("top300_universities.csv", index=False)


df_top300.shape





# Keep only the columns needed 
df_clean = df_top300[["university", "year", "score", "country"]].copy()


# Strip whitespace and title-case country names
df_clean["country"] = df_clean["country"].str.strip()

# Replace common variations
country_replacements = {
    "USA": "United States",
    "U.S.A.": "United States",
    "United States of America": "United States",
    "UK": "United Kingdom",
    "Russia": "Russian Federation",
}
df_clean["country"] = df_clean["country"].replace(country_replacements)


df_clean = df_clean.drop_duplicates(subset=["university", "year", "country"])


# Drop the missing values
df_clean = df_clean.dropna(subset=["score"])


# Convert to int and float
df_clean["year"] = df_clean["year"].astype(int)
df_clean["score"] = df_clean["score"].astype(float)


df_clean.info()


def tidy_university_dataset(df_clean: pd.DataFrame) -> pd.DataFrame:
    """
    Aggregates by [year, country] and computes:
      - total_score (sum of 'score')
      - num_universities (unique 'university' count)
    Then drops raw columns (if present) from the returned aggregated frame.
    """
    # Aggregate
    agg_df = (
        df_clean.groupby(["year", "country"], as_index=False)
                .agg(total_score=("score", "sum"),
                     num_universities=("university", "nunique"))
    )

    # Drop the originals if you no longer need them (no-op here, but kept for clarity)
    agg_df = agg_df.drop(columns=["university", "score"], errors="ignore")

    return agg_df


def plot_totals_and_counts_per_country_per_year(
    agg_data: pd.DataFrame,
    top_n: int = 10,
    top_by: str = "total_score",   # or "num_universities"
    figsize_per_row: tuple = (10, 2.8)
):
    """
    Makes two figures stacked by years:
      1) Total score per country
      2) Number of universities per country
    Uses the same top-N selection per year based on `top_by`.
    """
    years = sorted(agg_data["year"].unique())
    n_years = len(years)

    def top_per_year(df_year, by_col):
        return df_year.sort_values(by_col, ascending=False).head(top_n)

    # -------- Figure 1: Total Score --------
    fig1, axes1 = plt.subplots(
        n_years, 1,
        figsize=(figsize_per_row[0], max(figsize_per_row[1] * n_years, 2.5)),
        squeeze=False
    )
    for i, yr in enumerate(years):
        sub = agg_data[agg_data["year"] == yr].copy()
        top_set = top_per_year(sub, top_by)["country"]
        sub = sub[sub["country"].isin(top_set)].sort_values("total_score", ascending=False)

        ax = axes1[i, 0]
        ax.bar(sub["country"], sub["total_score"])
        ax.set_title(f"Total Score by Country — {yr}")
        ax.set_ylabel("Total Score")

        # Rotate + align tick labels (no 'ha' inside tick_params!)
        ax.tick_params(axis='x', labelrotation=45)
        plt.setp(ax.get_xticklabels(), ha='right')

    fig1.tight_layout()

    # -------- Figure 2: University Count --------
    fig2, axes2 = plt.subplots(
        n_years, 1,
        figsize=(figsize_per_row[0], max(figsize_per_row[1] * n_years, 2.5)),
        squeeze=False
    )
    for i, yr in enumerate(years):
        sub = agg_data[agg_data["year"] == yr].copy()
        top_set = top_per_year(sub, top_by)["country"]
        sub = sub[sub["country"].isin(top_set)].sort_values("num_universities", ascending=False)

        ax = axes2[i, 0]
        ax.bar(sub["country"], sub["num_universities"])
        ax.set_title(f"University Count by Country — {yr}")
        ax.set_ylabel("# Universities")

        ax.tick_params(axis='x', labelrotation=45)
        plt.setp(ax.get_xticklabels(), ha='right')

    fig2.tight_layout()
    return fig1, fig2


agg_data = tidy_university_dataset(df_clean)
fig1, fig2 = plot_totals_and_counts_per_country_per_year(
    agg_data, top_n=10, top_by="total_score"
)
plt.show()


agg_data.info()








# Find top 10 countries by total_score
top10_countries = (
    agg_data.groupby("country")["total_score"]
    .mean()
    .nlargest(10)
    .index
)
# Filter dataset
top10_df = agg_data[agg_data["country"].isin(top10_countries)].copy()
top10_df = top10_df.sort_values(["country", "year"])


# Forecasting by moving average and linear forecast

# ---- 1) Time-index helpers ----
def yearly_series(group, value_col="total_score"):
    """Regular annual PeriodIndex series with freq=Y-DEC. Interpolates gaps."""
    g = group.sort_values("year")
    s = g.set_index(pd.PeriodIndex(g["year"].astype(int), freq="Y-DEC"))[value_col]
    s = s.asfreq("Y-DEC")
    if s.isna().any():
        s = s.interpolate(limit_direction="both")
    return s
    
def future_index(s, steps):
    """Future yearly PeriodIndex aligned to s.frequency."""
    return pd.period_range(s.index[-1] + 1, periods=steps, freq=s.index.freq)

# ---- 2) Moving Average forecast ----
def moving_average_forecast(df, window=3, steps=2):
    results = {}
    for c, g in df.groupby("country"):
        s = yearly_series(g)
        if len(s) == 0:
            # empty guard
            idx = pd.period_range(2000, periods=steps, freq="Y-DEC")
            results[c] = pd.Series([np.nan]*steps, index=idx)
            continue
        w = max(1, min(window, len(s)))
        ma_last = s.rolling(w).mean().iloc[-1]
        idx = future_index(s, steps)
        results[c] = pd.Series([ma_last]*steps, index=idx)
    return results

# ---- 3) Linear Trend Extrapolation (no sklearn; pure NumPy) ----
def linear_trend_forecast(df, steps=2):
    results = {}
    for c, g in df.groupby("country"):
        g = g.sort_values("year")
        years = g["year"].astype(int).values
        y = g["total_score"].values

        if len(y) < 2:
            # fallback to last observed value if too short
            last = y[-1] if len(y) else np.nan
            last_year = years[-1] if len(years) else 2023
            fut_years = np.arange(last_year+1, last_year+1+steps)
            idx = pd.PeriodIndex(fut_years, freq="Y-DEC")
            results[c] = pd.Series([last]*steps, index=idx)
            continue

        # center years for numerical stability
        base = years.min()
        x = (years - base).astype(float)
        # fit y = a*x + b
        a, b = np.polyfit(x, y, 1)

        last_year = years[-1]
        fut_years = np.arange(last_year+1, last_year+1+steps)
        x_future = (fut_years - base).astype(float)
        preds = a * x_future + b
        idx = pd.PeriodIndex(fut_years, freq="Y-DEC")
        results[c] = pd.Series(preds, index=idx)
    return results

# ---- 4) Run both & build comparison table ----
STEPS = 2  # forecast next 2 years beyond each country's last observed year
ma_preds  = moving_average_forecast(top10_df, window=3, steps=STEPS)
lin_preds = linear_trend_forecast(top10_df, steps=STEPS)

rows = []
for c in top10_countries:
    # Use linear trend index for naming (both methods share same future years count)
    idx = lin_preds[c].index
    row = {"country": c}
    for i in range(STEPS):
        y = idx[i].year
        row[f"MA_{y}"]  = ma_preds[c].iloc[i]  if len(ma_preds[c])  > i else np.nan
        row[f"LIN_{y}"] = lin_preds[c].iloc[i] if len(lin_preds[c]) > i else np.nan
    rows.append(row)

comparison_df = pd.DataFrame(rows).sort_values("country").reset_index(drop=True)


comparison_df


# Forecasting using ARIMA

def arima_forecast(df, steps=2, order=(1,1,0)):
    """
    ARIMA forecast for total_score per country.
    order=(p,d,q):
        p - AR order
        d - differencing order
        q - MA order
    """
    results = {}
    for c, g in df.groupby("country"):
        s = yearly_series(g)  # from your helper — gives annual PeriodIndex, interpolated

        if s.isna().all() or len(s) < (order[0] + order[2] + 1):
            # fallback: repeat last value
            last_val = s.iloc[-1] if len(s) else np.nan
            idx = future_index(s, steps)
            results[c] = pd.Series([last_val] * steps, index=idx)
            continue

        try:
            # Fit ARIMA model
            model = ARIMA(s, order=order)
            fitted = model.fit()

            # Forecast
            forecast = fitted.forecast(steps=steps)
            idx = future_index(s, steps)
            results[c] = pd.Series(forecast.values, index=idx)
        except Exception as e:
            # Fallback on error
            last_val = s.iloc[-1]
            idx = future_index(s, steps)
            results[c] = pd.Series([last_val] * steps, index=idx)
    return results


STEPS = 2
ma_preds  = moving_average_forecast(top10_df, window=3, steps=STEPS)
lin_preds = linear_trend_forecast(top10_df, steps=STEPS)
arima_preds = arima_forecast(top10_df, steps=STEPS, order=(1,1,0))


rows = []
for c in top10_countries:
    idx = lin_preds[c].index  # consistent years
    row = {"country": c}
    for i in range(STEPS):
        y = idx[i].year
        row[f"MA_{y}"]    = ma_preds[c].iloc[i]    if len(ma_preds[c]) > i else np.nan
        row[f"LIN_{y}"]   = lin_preds[c].iloc[i]   if len(lin_preds[c]) > i else np.nan
        row[f"ARIMA_{y}"] = arima_preds[c].iloc[i] if len(arima_preds[c]) > i else np.nan
    rows.append(row)

comparison_df = pd.DataFrame(rows).sort_values("country").reset_index(drop=True)


comparison_df








df_rank_2023 = pd.read_csv("data/2023 QS World University Rankings.csv")


df_rank_2023


df_rank_2024 = pd.read_csv("data/2024 QS World University Rankings 1.1 (For qs.com).csv")


df_rank_2024


df_rank_2023.shape





# Investigate columns from both data
columns1 = df_rank.columns # columns from data 2017-2022 
columns2 = df_rank_2023.columns # columns from data 2023 

print("columns from data 2017-2022:", columns1)
print("columns from data 2023 :", columns2)





# copy selected columns from Data 2023
df_temp2023 = df_rank_2023[['institution','Rank','score scaled','location']].copy()
# add year column
df_temp2023['year'] = 2023
# Check result
df_temp2023.info()


df_temp2023.columns = ['university','rank_display','score','country', 'year']
# Check result
df_temp2023.info()


# Convert rank_display to numeric 
df_temp2023['rank_display'] = pd.to_numeric(df_temp2023['rank_display'], errors='coerce')

# Filter top 300 for each year
df_top300_2023 = df_temp2023[df_temp2023['rank_display'] <= 300]

# Count missing scores
missing_count = df_top300_2023['score'].isna().sum()
total_count = len(df_top300_2023)
missing_percentage = (missing_count / total_count) * 100

print(f"Total entries in top 300: {total_count}")
print(f"Missing score entries: {missing_count}")
print(f"Missing percentage: {missing_percentage:.2f}%")


# Start with a copy to avoid accidental index mismatch
df_clean_2023 = df_top300_2023.copy()

# Strip whitespace and title-case country names
df_clean_2023["country"] = df_clean_2023["country"].str.strip().str.title()

# Replace common variations
country_replacements = {
    "Usa": "United States",
    "U.s.a.": "United States",
    "United States Of America": "United States",
    "Uk": "United Kingdom",
    "Russia": "Russian Federation",
}
df_clean_2023["country"] = df_clean_2023["country"].replace(country_replacements)


def tidy_university_dataset(df_clean_2023: pd.DataFrame) -> pd.DataFrame:
    """
    Aggregates by [year, country] and computes:
      - total_score (sum of 'score' across universities)
      - num_universities (unique 'university' count)
    Returns one row per (year, country).
    """
    agg_df = (
        df_clean_2023.groupby(["year", "country"], as_index=False)
                .agg(total_score=("score", "sum"),
                     num_universities=("university", "nunique"))
    )
    return agg_df

# Build aggregated dataset
agg_df_yr_country = tidy_university_dataset(df_clean_2023)

# Actuals for 2023 (one row per country)
actuals_2023 = (
    agg_df_yr_country.loc[agg_df_yr_country["year"] == 2023, ["country", "total_score"]]
    .rename(columns={"total_score": "actual_2023"})
)

# Keep only top-10 countries you forecasted for
actuals_2023 = actuals_2023[actuals_2023["country"].isin(top10_countries)].reset_index(drop=True)


actuals_2023


# One row per (year, country)
assert agg_df_yr_country.duplicated(["year", "country"]).sum() == 0

# All top10 countries appear in actuals (unless missing in 2023)
print(set(top10_countries) - set(actuals_2023["country"]))


comparison_df["country"] = comparison_df["country"].astype(str).str.strip()
actuals_2023["country"]  = actuals_2023["country"].astype(str).str.strip()


if "actual_2023" in comparison_df.columns:
    comparison_df = comparison_df.drop(columns=["actual_2023"])

comparison_df = comparison_df.merge(actuals_2023, on="country", how="left")


comparison_df


# Drop redundant columns
comparison_df = comparison_df.drop(columns=["actual_2023_x", "actual_2023_y"], errors="ignore")


comparison_df


for model in ["MA", "LIN", "ARIMA"]:
    comparison_df[f"{model}_abs_error_2023"] = (comparison_df[f"{model}_2023"] - comparison_df["actual_2023"]).abs()
    comparison_df[f"{model}_pct_error_2023"] = (
        (comparison_df[f"{model}_2023"] - comparison_df["actual_2023"]).abs() / comparison_df["actual_2023"] * 100
    )


comparison_df


avg_errors = comparison_df[
    [col for col in comparison_df.columns if "pct_error_2023" in col]
].mean().sort_values()

print(avg_errors)


# Visulas 











df_gdp = pd.read_csv("data/gdp.csv")


df_gdp.info()


df_gdp.head(5)





# Keep only GDP per capita (current US$)
gdp_filtered = df_gdp[df_gdp["Series Name"] == "GDP per capita (current US$)"].copy()

# Drop unneeded columns
gdp_filtered = gdp_filtered.drop(columns=["Country Code", "Series Code", "Series Name"], errors="ignore")
gdp_filtered = gdp_filtered.loc[:, ~gdp_filtered.columns.str.contains("^Unnamed")]

# Reshape from wide to long format
gdp_long = gdp_filtered.melt(id_vars=["Country Name"], var_name="year", value_name="gdp_per_capita")

# Clean year strings like "2017 [YR2017]" -> "2017"
gdp_long["year"] = gdp_long["year"].str.extract(r"(\d{4})")

# Continue with steps
gdp_long = gdp_long.rename(columns={"Country Name": "country"})
gdp_long["year"] = pd.to_numeric(gdp_long["year"], errors="coerce")
gdp_long = gdp_long.dropna(subset=["year", "gdp_per_capita"])
gdp_long["year"] = gdp_long["year"].astype(int)

# Filter for 2017–2024
gdp_long = gdp_long[gdp_long["year"].between(2017, 2024)]

gdp_long.head(10)








# Merge GDP with ranking stats
merged_df = pd.merge(gdp_long, agg_data, on=["country", "year"])

# Final columns: country, year, gdp_per_capita, score, university_count
merged_df.head(20)


merged_df.info()


# Compute correlation matrix
correlation = merged_df[["gdp_per_capita", "total_score", "num_universities"]].corr()

# Display correlation table
print(correlation)


# Load dataset
edu_df = pd.read_csv("data/gov_exp_on_edu.csv")  


edu_df.info()


edu_df.head(5)


# Step 2: Keep only education expenditure rows
edu_filtered = edu_df[
    edu_df["Series Name"] == "Government expenditure on education, total (% of GDP)"
].copy()

# Step 3: Drop unneeded columns
edu_filtered = edu_filtered.drop(
    columns=["Country Code", "Series Code", "Series Name"], errors="ignore"
)

# Remove unnamed columns if any
edu_filtered = edu_filtered.loc[:, ~edu_filtered.columns.str.contains("^Unnamed")]

# Step 4: Reshape from wide to long format
edu_long = edu_filtered.melt(
    id_vars=["Country Name"], var_name="year", value_name="gov_exp_edu"
)

# Extract just the year number from "2017 [YR2017]"
edu_long["year"] = edu_long["year"].str.extract(r"(\d{4})")

# Rename country column
edu_long = edu_long.rename(columns={"Country Name": "country"})

# Convert to numeric types
edu_long["year"] = pd.to_numeric(edu_long["year"], errors="coerce")
edu_long["gov_exp_edu"] = pd.to_numeric(edu_long["gov_exp_edu"], errors="coerce")

# Drop missing values
edu_long = edu_long.dropna(subset=["year", "gov_exp_edu"])

# Convert year to int
edu_long["year"] = edu_long["year"].astype(int)

# Filter only 2017–2024
edu_long = edu_long[edu_long["year"].between(2017, 2023)]

print(edu_long.dtypes)
print(edu_long.head(20))


# Merge GDP with ranking stats
merged_df_edu = pd.merge(edu_long, agg_data, on=["country", "year"])

# Final columns: country, year, gdp_per_capita, score, university_count
merged_df_edu.head(20)


# Compute correlation matrix
correlation_edu = merged_df_edu[["gov_exp_edu", "total_score", "num_universities"]].corr()

# Display correlation table
print(correlation_edu)


# Load dataset
gov_df = pd.read_csv("data/Gov_effect_score .csv")  


gov_df.head()


# Step 1: Keep only Government Effectiveness rows
gov_eff_filtered = gov_df[
    gov_df["Series Name"] == "Government Effectiveness: Percentile Rank"
].copy()

# Step 2: Drop unneeded columns
gov_eff_filtered = gov_eff_filtered.drop(
    columns=["Country Code", "Series Code", "Series Name"], errors="ignore"
)

# Remove unnamed columns if any
gov_eff_filtered = gov_eff_filtered.loc[:, ~gov_eff_filtered.columns.str.contains("^Unnamed")]

# Step 3: Reshape from wide to long format
gov_eff_long = gov_eff_filtered.melt(
    id_vars=["Country Name"], var_name="year", value_name="gov_effectiveness"
)

# Extract year number from "2017 [YR2017]"
gov_eff_long["year"] = gov_eff_long["year"].str.extract(r"(\d{4})")

# Rename for consistency
gov_eff_long = gov_eff_long.rename(columns={"Country Name": "country"})

# Convert to numeric
gov_eff_long["year"] = pd.to_numeric(gov_eff_long["year"], errors="coerce")
gov_eff_long["gov_effectiveness"] = pd.to_numeric(gov_eff_long["gov_effectiveness"], errors="coerce")

# Drop missing values
gov_eff_long = gov_eff_long.dropna(subset=["year", "gov_effectiveness"])

# Ensure year is integer
gov_eff_long["year"] = gov_eff_long["year"].astype(int)

# Filter for years 2017–2024
gov_eff_long = gov_eff_long[gov_eff_long["year"].between(2017, 2023)]

print(gov_eff_long.dtypes)
print(gov_eff_long.head(20))


# Merge GDP with ranking stats
merged_df_gov = pd.merge(gov_eff_long, agg_data, on=["country", "year"])

# Final columns: country, year, gdp_per_capita, score, university_count
merged_df_gov.head(5)


# Compute correlation matrix
correlation_gov = merged_df_gov[["gov_effectiveness", "total_score", "num_universities"]].corr()

# Display correlation table
print(correlation_gov)


# Example: if your current year columns are like '2017 [YR2017]', convert to numeric
def clean_year(df):
    df["year"] = pd.to_numeric(df["year"], errors="coerce")
    return df

gdp_long = clean_year(gdp_long)
edu_long = clean_year(edu_long)
merged_df_gov = clean_year(merged_df_gov)


gdp_long = gdp_long[["country", "year", "gdp_per_capita"]]
edu_long = edu_long[["country", "year", "gov_exp_edu"]]
gov_eff_long = gov_eff_long [["country", "year", "gov_effectiveness"]]
merged_df_gov = merged_df_gov[["country", "year", "gov_effectiveness", "total_score"]]


print("GDP last year:", gdp_long["year"].max())
print("Gov Exp Edu last year:", edu_long["year"].max())
print("Gov Effectiveness last year:", merged_df_gov["year"].max())


# --- ARIMAX (GDP-only) for 2023 forecast with OUTER MERGE ---

import pandas as pd
from statsmodels.tsa.statespace.sarimax import SARIMAX

# 0) Hygiene: types + basic cleaning
for d in (gdp_long, merged_df_gov):
    d["country"] = d["country"].astype(str).str.strip()
    d["year"] = d["year"].astype(int)

# 1) Ensure one GDP row per country-year (dedupe/aggregate if needed)
gdp_long = (
    gdp_long.groupby(["country","year"], as_index=False)
            .agg(gdp_per_capita=("gdp_per_capita","last"))
)

# 2) OUTER MERGE: keep 2023 GDP rows even though total_score ends in 2022
df_gdp_exog = (
    merged_df_gov[["country","year","total_score"]]
    .merge(gdp_long[["country","year","gdp_per_capita"]],
           on=["country","year"], how="outer", validate="many_to_one")
    .sort_values(["country","year"])
)

# 3) Select top-10 countries by avg total_score over 2017–2022
top10 = (df_gdp_exog.query("year <= 2022")
         .dropna(subset=["total_score"])  # safety
         .groupby("country")["total_score"]
         .mean()
         .nlargest(10)
         .index
         .tolist())

# 4) Forecast 2023 with ARIMAX per country (GDP-only exogenous)
pred_rows = []
for c in top10:
    cd = df_gdp_exog[df_gdp_exog["country"] == c].copy()

    # Train window: 2017–2022 (only where total_score exists)
    train = cd[(cd["year"] >= 2017) & (cd["year"] <= 2022)].dropna(subset=["total_score", "gdp_per_capita"]).copy()
    if train.empty or train["year"].nunique() < 3:
        pred_rows.append({"country": c, "forecast_2023": None, "lo80": None, "hi80": None, "note": "Too few points"})
        continue

    # Build indexed series/dataframes
    idx_train = pd.to_datetime(train["year"].astype(str))
    y_train = pd.Series(train["total_score"].values, index=idx_train, name="total_score")
    X_train = pd.DataFrame({"gdp_per_capita": train["gdp_per_capita"].values}, index=idx_train)

    # Exogenous for 2023 (must exist after outer merge)
    fut = cd[(cd["year"] == 2023)][["gdp_per_capita"]].copy()
    if fut.empty or fut.isna().any().any():
        pred_rows.append({"country": c, "forecast_2023": None, "lo80": None, "hi80": None, "note": "No GDP for 2023"})
        continue
    X_2023 = pd.DataFrame(fut.values, index=pd.to_datetime(["2023"]), columns=["gdp_per_capita"])

    # Try a few small ARIMA orders (short history); pick the first that fits
    tried = [(1,1,1), (1,1,0), (0,1,1), (0,1,0)]
    fitted = None
    for order in tried:
        try:
            model = SARIMAX(y_train, exog=X_train, order=order,
                            enforce_stationarity=False, enforce_invertibility=False)
            res = model.fit(disp=False)
            fitted = (order, res)
            break
        except Exception as e:
            last_err = str(e)
            continue

    if fitted is None:
        pred_rows.append({"country": c, "forecast_2023": None, "lo80": None, "hi80": None,
                          "note": f"Fit failed ({last_err[:80]}...)"})
        continue

    order_used, res = fitted

    # One-step-ahead forecast for 2023 with CI
    fc = res.get_forecast(steps=1, exog=X_2023)
    mean = float(fc.predicted_mean.iloc[0])
    ci = fc.conf_int(alpha=0.2)  # 80% CI; use alpha=0.05 for 95%
    lo80 = float(ci.iloc[0, 0])
    hi80 = float(ci.iloc[0, 1])

    pred_rows.append({
        "country": c,
        "forecast_2023": mean,
        "lo80": lo80,
        "hi80": hi80,
        "order": str(order_used),
        "note": ""
    })

pred_df = pd.DataFrame(pred_rows).sort_values("country").reset_index(drop=True)
print(pred_df)


import numpy as np
import pandas as pd
from statsmodels.tsa.statespace.sarimax import SARIMAX

def zscore_train(x):
    mu = float(np.nanmean(x))
    sd = float(np.nanstd(x, ddof=0))
    if sd == 0 or np.isnan(sd):
        sd = 1.0
    return (x - mu) / sd, mu, sd

def make_year_end_index(years):
    # Convert int years to year-end timestamps with explicit freq
    return pd.PeriodIndex(years.astype(str), freq="A-DEC").to_timestamp()

pred_rows = []

# Use your df_gdp_exog with the OUTER merge from earlier
top10 = (df_gdp_exog.query("year <= 2022")
         .dropna(subset=["total_score"])
         .groupby("country")["total_score"].mean()
         .nlargest(10).index.tolist())

for c in top10:
    cd = df_gdp_exog[df_gdp_exog["country"] == c].copy()
    train = cd[(cd["year"] >= 2017) & (cd["year"] <= 2022)].dropna(subset=["total_score","gdp_per_capita"])
    fut  = cd[(cd["year"] == 2023)][["gdp_per_capita"]]

    if len(train) < 4 or fut.empty or fut.isna().any().any():
        pred_rows.append({"country": c, "forecast_2023": None, "lo80": None, "hi80": None, "order": "", "note": "too little data or missing 2023 GDP"})
        continue

    # Index with explicit yearly frequency
    idx = make_year_end_index(train["year"])
    y  = pd.Series(train["total_score"].to_numpy(float), index=idx, name="total_score")
    X  = pd.DataFrame({"gdp_per_capita": train["gdp_per_capita"].to_numpy(float)}, index=idx)

    # Standardize endog and exog (fit-time stats)
    y_z, y_mu, y_sd = zscore_train(y.values)
    X_z = X.copy()
    X_z["gdp_per_capita"], x_mu, x_sd = zscore_train(X["gdp_per_capita"].values)

    y_z = pd.Series(y_z, index=idx, name="y_z")
    X_z.index = idx

    # 2023 exog (apply SAME scaling as training)
    x2023_raw = float(fut["gdp_per_capita"].iloc[0])
    x2023_z   = (x2023_raw - x_mu) / (x_sd if x_sd != 0 else 1.0)
    X_2023_z  = pd.DataFrame({"gdp_per_capita":[x2023_z]},
                             index=make_year_end_index(pd.Series([2023], dtype=int)))

    # Try a few robust orders for tiny samples
    tried_orders = [(0,1,1), (1,0,0), (1,1,0), (0,1,0)]
    fitted = None
    last_err = ""
    for order in tried_orders:
        try:
            model = SARIMAX(
                y_z, exog=X_z, order=order, trend="c",  # include constant
                enforce_stationarity=False, enforce_invertibility=False
            )
            res = model.fit(disp=False, maxiter=1000, method="lbfgs")
            fitted = (order, res)
            break
        except Exception as e:
            last_err = str(e)
            continue

    if fitted is None:
        pred_rows.append({"country": c, "forecast_2023": None, "lo80": None, "hi80": None, "order": "", "note": f"fit failed: {last_err[:80]}..."})
        continue

    order_used, res = fitted

    # One-step forecast on standardized scale
    fc = res.get_forecast(steps=1, exog=X_2023_z)
    mean_z = float(fc.predicted_mean.iloc[0])
    ci_z   = fc.conf_int(alpha=0.2)  # 80% CI
    lo_z   = float(ci_z.iloc[0, 0])
    hi_z   = float(ci_z.iloc[0, 1])

    # Unscale back to original total_score units
    mean = mean_z * y_sd + y_mu
    lo80 = lo_z   * y_sd + y_mu
    hi80 = hi_z   * y_sd + y_mu

    pred_rows.append({
        "country": c,
        "forecast_2023": mean,
        "lo80": lo80,
        "hi80": hi80,
        "order": str(order_used),
        "note": ""
    })

pred_df = pd.DataFrame(pred_rows).sort_values("country").reset_index(drop=True)
print(pred_df)


# Ensure country names are strings (strip spaces)
for d in (gdp_long, merged_df_gov):
    d["country"] = d["country"].astype(str).str.strip()

# Ensure year is integer
for d in (gdp_long, merged_df_gov):
    d["year"] = d["year"].astype(int)

# Convert GDP to numeric
gdp_long["gdp_per_capita"] = pd.to_numeric(gdp_long["gdp_per_capita"], errors="coerce")

# Optional: Check for NaN after conversion
print("NaN GDP after conversion:", gdp_long["gdp_per_capita"].isna().sum())


import pandas as pd
from statsmodels.tsa.statespace.sarimax import SARIMAX

# --- 0) PREP: types + GDP cleanup (run once if not already done) ---
for d in (gdp_long, merged_df_gov):
    d["country"] = d["country"].astype(str).str.strip()
    d["year"]    = d["year"].astype(int)
gdp_long["gdp_per_capita"] = pd.to_numeric(gdp_long["gdp_per_capita"], errors="coerce")

# If you still have NaNs, interpolate within each country (safe for short gaps)
gdp_long = gdp_long.sort_values(["country","year"])
gdp_long["gdp_per_capita"] = (
    gdp_long.groupby("country")["gdp_per_capita"]
            .apply(lambda s: s.interpolate(method="linear", limit_direction="both"))
)

# --- 1) Merge target with GDP only (exogenous) ---
df_gdp_exog = (
    merged_df_gov[["country","year","total_score"]]
    .merge(gdp_long[["country","year","gdp_per_capita"]],
           on=["country","year"], how="left", validate="many_to_one")
    .sort_values(["country","year"])
)

# --- 2) Pick top-10 countries by average 2017–2022 total_score ---
top10 = (df_gdp_exog.query("year <= 2022")
         .groupby("country")["total_score"]
         .mean()
         .nlargest(10)
         .index
         .tolist())

# --- 3) ARIMAX per country, predict 2023 using real 2023 GDP ---
pred_rows = []
for c in top10:
    cd = df_gdp_exog[df_gdp_exog["country"] == c].copy()

    # Train set: 2017–2022
    train = cd[cd["year"] <= 2022].copy()
    # Use a datetime index for safety in predict()
    idx_train = pd.to_datetime(train["year"].astype(str))
    y_train   = pd.Series(train["total_score"].values, index=idx_train, name="total_score")
    X_train   = pd.DataFrame(train["gdp_per_capita"].values, index=idx_train, columns=["gdp_per_capita"])

    # Exog for 2023 (must be aligned to a datetime index "2023")
    fut = cd[cd["year"] == 2023][["gdp_per_capita"]]
    if fut.empty or fut.isna().any().any():
        pred_rows.append({"country": c, "forecast_2023": None, "lo80": None, "hi80": None, "note": "No GDP for 2023"})
        continue
    X_2023 = pd.DataFrame(fut.values, index=pd.to_datetime(["2023"]), columns=["gdp_per_capita"])

    # Fit ARIMAX; (1,1,1) is a reasonable baseline with short histories. Tune later if needed.
    model = SARIMAX(y_train, exog=X_train, order=(1,1,1),
                    enforce_stationarity=False, enforce_invertibility=False)
    res = model.fit(disp=False)

    # One-step-ahead forecast for 2023 with confidence interval
    fc = res.get_forecast(steps=1, exog=X_2023)
    mean = float(fc.predicted_mean.iloc[0])
    ci   = fc.conf_int(alpha=0.2)  # 80% interval (change alpha=0.05 for 95%)
    lo80 = float(ci.iloc[0, 0])
    hi80 = float(ci.iloc[0, 1])

    pred_rows.append({"country": c, "forecast_2023": mean, "lo80": lo80, "hi80": hi80, "note": ""})

pred_df = pd.DataFrame(pred_rows).sort_values("country").reset_index(drop=True)
print(pred_df)


# Merge again and see if GDP 2023 appears for top-10
df_gdp_exog = merged_df_gov[["country","year","total_score"]] \
    .merge(gdp_long[["country","year","gdp_per_capita"]],
           on=["country","year"], how="left")

# Top-10 countries
top10 = (
    df_gdp_exog.query("year <= 2022")
               .groupby("country")["total_score"]
               .mean()
               .nlargest(10)
               .index
               .tolist()
)

# Check which top-10 still missing GDP for 2023
missing_2023 = df_gdp_exog.query("year==2023 and country in @top10 and gdp_per_capita.isna()")
print(missing_2023[["country","year"]].drop_duplicates())


from statsmodels.tsa.statespace.sarimax import SARIMAX
import pandas as pd

# Merge only total_score and GDP
df_gdp_exog = merged_df_gov[["country", "year", "total_score"]] \
    .merge(gdp_long[["country", "year", "gdp_per_capita"]],
           on=["country", "year"], how="left")

# Select top-10 countries by avg total_score (2017–2022)
top10 = (
    df_gdp_exog.query("year <= 2022")
               .groupby("country")["total_score"]
               .mean()
               .nlargest(10)
               .index
               .tolist()
)

preds = []
for c in top10:
    country_data = df_gdp_exog[df_gdp_exog["country"] == c].sort_values("year")
    
    y_train = country_data.query("year <= 2022")["total_score"]
    exog_train = country_data.query("year <= 2022")[["gdp_per_capita"]]
    
    exog_2023 = country_data.query("year == 2023")[["gdp_per_capita"]]
    
    if exog_2023.empty:
        preds.append({"country": c, "forecast_2023": None, "note": "No GDP for 2023"})
        continue
    
    model = SARIMAX(y_train, exog=exog_train, order=(1,1,1),
                    enforce_stationarity=False, enforce_invertibility=False)
    res = model.fit(disp=False)
    
    forecast_2023 = res.predict(start=len(y_train), end=len(y_train), exog=exog_2023)
    preds.append({"country": c, "forecast_2023": float(forecast_2023)})

pred_df = pd.DataFrame(preds).sort_values("country")
print(pred_df)


# Types must match
print(gdp_long.dtypes)
print(merged_df_gov.dtypes)

# Do we actually have 2023 in GDP?
print("GDP years:", sorted(gdp_long["year"].unique())[-5:])
print("Count GDP 2023 rows:", (gdp_long["year"]==2023).sum())

# Which of your top-10 are missing GDP 2023 after the merge?
df_gdp_exog = (
    merged_df_gov[["country","year","total_score"]]
    .merge(gdp_long[["country","year","gdp_per_capita"]],
           on=["country","year"], how="left", validate="many_to_one")
)

missing_2023 = (
    df_gdp_exog.query("year==2023 and country in @df_gdp_exog.query('year<=2022')\
                       .groupby('country')['total_score'].mean().nlargest(10).index")
               .query("gdp_per_capita.isna()")[["country","year"]]
               .drop_duplicates()
)
print("Top-10 with missing GDP for 2023 after merge:\n", missing_2023)


import pandas as pd
from statsmodels.tsa.statespace.sarimax import SARIMAX

# 1) Make the exogenous table (2017–2024), no target inside
exog_df = (
    gdp_long[["country","year","gdp_per_capita"]]
      .merge(edu_long[["country","year","gov_exp_edu"]],
             on=["country","year"], how="outer", validate="one_to_one")
      .merge(gov_eff_long[["country","year","gov_effectiveness"]],  
             on=["country","year"], how="outer", validate="one_to_one")
)

# Clean types & duplicates
exog_df["country"] = exog_df["country"].astype(str)
exog_df["year"] = exog_df["year"].astype(int)
exog_df = exog_df.drop_duplicates(subset=["country","year"]).sort_values(["country","year"])

# (Optional) Sanity check for missing future exog
missing_2023 = exog_df.query("year==2023").isna().sum()
missing_2024 = exog_df.query("year==2024").isna().sum()
print("Missing exog 2023:\n", missing_2023)
print("Missing exog 2024:\n", missing_2024)

# 2) Build training table (target + exog for 2017–2022)
train_df = (
    merged_df_gov[["country","year","total_score"]]  # target
      .merge(exog_df, on=["country","year"], how="left")  # add exog (same years)
)

# 3) Pick top-10 countries by average total_score (2017–2022 only)
top10 = (
    train_df.query("year <= 2022")
            .groupby("country")["total_score"]
            .mean()
            .nlargest(10)
            .index
            .tolist()
)

# 4) Forecast 2023 with ARIMAX for the top-10
preds = []
for c in top10:
    # Country frames
    y_c = (train_df.query("country == @c and year <= 2022")
                 .sort_values("year")
                 .set_index(pd.to_datetime(train_df.query("country==@c and year<=2022")["year"].astype(str)))["total_score"])
    
    exog_c = (train_df.query("country == @c and year <= 2022")
                     .sort_values("year")
                     .set_index(pd.to_datetime(train_df.query("country==@c and year<=2022")["year"].astype(str)))
                     [["gdp_per_capita","gov_exp_edu","gov_effectiveness"]])

    # Future exog (real values) for 2023
    exog_2023 = (exog_df.query("country == @c and year == 2023")
                        [["gdp_per_capita","gov_exp_edu","gov_effectiveness"]])
    if exog_2023.empty or exog_2023.isna().any(axis=None):
        preds.append({"country": c, "forecast_2023": None, "note": "Missing exogenous 2023"})
        continue
    exog_2023 = exog_2023.set_index(pd.to_datetime(["2023"]))

    # Fit ARIMAX (simple baseline order; tune if needed)
    model = SARIMAX(y_c, exog=exog_c, order=(1,1,1),
                    enforce_stationarity=False, enforce_invertibility=False)
    res = model.fit(disp=False)

    # Predict 2023
    f_2023 = res.predict(start=pd.to_datetime("2023"), end=pd.to_datetime("2023"), exog=exog_2023)
    preds.append({"country": c, "forecast_2023": float(f_2023.iloc[0])})

pred_df = pd.DataFrame(preds).sort_values("country")
pred_df


# Merge GDP
df = pd.merge(merged_df_gov, gdp_long, on=["country", "year"], how="left")

# Merge Education spending
df = pd.merge(df, edu_long, on=["country", "year"], how="left")


# Remove duplicates and sort
df = df.drop_duplicates(subset=["country", "year"]).sort_values(["country", "year"]).reset_index(drop=True)

# Check missingness
print(df.isna().sum())

# See sample
print(df.head(10))


df.head(10)





# --- 1) Sanity checks & basic cleaning ---
required = {"country","year","total_score","gdp_per_capita","gov_effectiveness","gov_exp_edu"}
missing = required - set(df.columns)
if missing:
    raise ValueError(f"Missing required columns: {missing}")

df1 = df.copy()

# Normalize types
df1["country"] = df1["country"].astype(str).str.strip()
df1["year"] = pd.to_numeric(df1["year"], errors="coerce").astype("Int64")

for col in ["total_score","gdp_per_capita","gov_effectiveness","gov_exp_edu"]:
    df1[col] = pd.to_numeric(df1[col], errors="coerce")

# Keep only 2017–2024
df1 = df1[df1["year"].between(2017, 2024)]

# Drop exact duplicates (country-year)
df1 = df1.drop_duplicates(subset=["country","year"]).sort_values(["country","year"]).reset_index(drop=True)

# --- 2) Quick missingness report (helps spot issues before modeling) ---
miss_report = (
    df1.set_index(["country","year"])
       [["total_score","gdp_per_capita","gov_effectiveness","gov_exp_edu"]]
       .isna()
       .groupby(level=0).sum()
       .sort_values("total_score", ascending=False)
)
print("Missing values per country (counts across 2017–2024):")
print(miss_report.head(20))

# --- 3) Choose Top-10 by average total_score in training window (2017–2022) ---
train = df1[df1["year"].between(2017, 2022)]
top10_countries = (
    train.groupby("country")["total_score"]
         .mean()
         .sort_values(ascending=False)
         .head(10)
         .index
         .tolist()
)
print("Top-10 countries (2017–2022 avg total_score):")
print(top10_countries)

# --- 4) Ensure exogenous vars are complete (we may impute EXOG only, never y) ---
# Simple, safe fill for EXOG per country (forward then backward). DO NOT fill y for training.
def fill_exog(g):
    cols = ["gdp_per_capita","gov_effectiveness","gov_exp_edu"]
    g[cols] = g[cols].ffill().bfill()
    return g

df_clean = (
    df1.sort_values(["country","year"])
       .groupby("country", group_keys=False)
       .apply(fill_exog)
       .reset_index(drop=True)
)

# Check completeness for the selected Top-10 across 2017–2024
def completeness_table(df_in, countries):
    rows = []
    for c in countries:
        sub = df_in[df_in["country"] == c].set_index("year").reindex(range(2017, 2025))
        miss = sub[["total_score","gdp_per_capita","gov_effectiveness","gov_exp_edu"]].isna().sum()
        rows.append({"country": c,
                     "miss_total_score": int(miss["total_score"]),
                     "miss_gdp": int(miss["gdp_per_capita"]),
                     "miss_gov_eff": int(miss["gov_effectiveness"]),
                     "miss_gov_exp_edu": int(miss["gov_exp_edu"])})
    return pd.DataFrame(rows).sort_values("miss_total_score", ascending=False)

comp_top10 = completeness_table(df_clean, top10_countries)
print("\nCompleteness across 2017–2024 for Top-10:")
print(comp_top10)



























