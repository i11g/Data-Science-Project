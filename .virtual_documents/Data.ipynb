import numpy as np
import pandas as pd
import matplotlib.pyplot as plt
import re
from scipy.stats import pearsonr, spearmanr, kendalltau
import seaborn as sns
import os
pd.set_option('future.no_silent_downcasting', True)
























































# Load dataset
df_rank = pd.read_csv("data/world-university-rankings-2017-to-2022.csv")


# Display basic information
## df_rank.info()


# df_rank.describe().T


df_rank.dtypes


df_rank.head(5)


num_countries_rank = df_rank['country'].nunique()
num_years_rank = df_rank['year'].nunique()
print(f"Ranking Dataset: {num_countries_rank} countries, {num_years_rank}years")


print(df_rank.isnull().sum())


# Convert rank_display to numeric 
df_rank['rank_display'] = pd.to_numeric(df_rank['rank_display'], errors='coerce')

# Filter top 300 universities for each year
df_top300 = df_rank[df_rank['rank_display'] <= 300]

# Count missing scores
missing_count = df_top300['score'].isna().sum()
total_count = len(df_top300)
missing_percentage = (missing_count / total_count) * 100

print(f"Total entries in top 300: {total_count}")
print(f"Missing score entries: {missing_count}")
print(f"Missing percentage: {missing_percentage:.2f}%")

# check missing score by year
missing_by_year = df_top300.groupby('year')['score'].apply(lambda x: x.isna().sum())
print("\nMissing scores by year:")
print(missing_by_year)


# save the new dataset in tables folder
df_top300.to_csv("tables/top300_universities.csv", index=False)


# check what is the shape of the table
df_top300.shape


# Keep only the columns needed 
df_clean = df_top300[["university", "year", "score", "country"]].copy()





# =====================================
# Global country name standardization
# =====================================

country_replacements = {
    # United States
    "USA": "United States",
    "U.S.A.": "United States",
    "United States of America": "United States",

    # United Kingdom
    "UK": "United Kingdom",
    "U.K.": "United Kingdom",
    "Great Britain": "United Kingdom",
    "England": "United Kingdom",  # sometimes appears separately

    # Russia
    "Russia": "Russian Federation",
    "Russian Fed.": "Russian Federation",
    "RU": "Russian Federation",

    # South Korea
    "Korea, South": "South Korea",
    "Republic of Korea": "South Korea",
    "Korea Republic": "South Korea",

    # North Korea
    "Korea, North": "North Korea",
    "Democratic People's Republic of Korea": "North Korea",

    # Iran
    "Iran, Islamic Rep.": "Iran",
    "Islamic Republic of Iran": "Iran",

    # Egypt
    "Egypt, Arab Rep.": "Egypt",
    "Arab Republic of Egypt": "Egypt",

    # Vietnam
    "Viet Nam": "Vietnam",

    # Czech Republic
    "Czechia": "Czech Republic",

    # Others common in World Bank / QS
    "Hong Kong SAR, China": "Hong Kong",
    "Macao SAR, China": "Macau",
    "China, Hong Kong SAR": "Hong Kong",
    "China, Macao SAR": "Macau",

    "Slovak Republic": "Slovakia",
    "Syrian Arab Republic": "Syria",
    "Türkiye": "Turkey",
    "Gambia, The": "Gambia",
    "Bahamas, The": "Bahamas",
    "Yemen, Rep.": "Yemen",
    "Lao PDR": "Laos",
    "Brunei Darussalam": "Brunei",
    "Côte d'Ivoire": "Ivory Coast",
    "Congo, Dem. Rep.": "Democratic Republic of the Congo",
    "Congo, Rep.": "Republic of the Congo"
}

def standardize_country_names(df: pd.DataFrame, col: str = "country") -> pd.DataFrame:
    """
    Harmonize country names in a dataframe for consistency across datasets.
    
    Parameters:
    -----------
    df : pd.DataFrame
        Input dataframe with a country column.
    col : str
        Column name containing country names (default: 'country').
    
    Returns:
    --------
    pd.DataFrame
        Dataframe with standardized country names.
    """
    if col not in df.columns:
        raise KeyError(f"Column '{col}' not found in dataframe")

    df[col] = (
        df[col]
        .astype(str)
        .str.strip()
        .replace(country_replacements)
    )
    return df


# Strip whitespace and title-case country names
df_clean["country"] = df_clean["country"].str.strip()

df_clean = standardize_country_names(df_clean, col="country")

df_clean["country"] = df_clean["country"].replace(country_replacements)


# Drop duplicates
df_clean = df_clean.drop_duplicates(subset=["university", "year", "country"])


# Since the missing values are 0.39 % we will drop them
df_clean = df_clean.dropna(subset=["score"])


# For sanity convert year and score to int and float 
df_clean["year"] = df_clean["year"].astype(int)
df_clean["score"] = df_clean["score"].astype(float)


df_clean.info()





# Make the total_score_df, in which total_score = sum of all university scores per country-year
total_score_df = (
    df_clean.groupby(["year", "country"], as_index=False)
      .agg(total_score=("score", "sum"))
)

print(total_score_df.head())


# Boxplot for total_score to visualize outliers
plt.figure(figsize=(8, 4))
plt.boxplot(total_score_df["total_score"], vert=False, patch_artist=True, 
            boxprops=dict(facecolor="lightblue"))

plt.title("Boxplot of Total Score (All Years)")
plt.xlabel("Total Score")
plt.grid(axis='x', linestyle='--', alpha=0.7)
plt.savefig("plots/qs_total_score_trends.png", dpi=300, bbox_inches='tight')
plt.show()


# Make num_univ_df in which num_universities = count of unique universities per country-year
num_univ_df = (
    df_clean.groupby(["year", "country"], as_index=False)
      .agg(num_universities=("university", "nunique"))
)

print(num_univ_df.head())


# Boxplot for num_universities
plt.figure(figsize=(8, 4))
plt.boxplot(num_univ_df["num_universities"], vert=False, patch_artist=True, 
            boxprops=dict(facecolor="lightgreen"))
plt.title("Boxplot of Number of Universities (All Years)")
plt.xlabel("Number of Universities")
plt.grid(axis='x', linestyle='--', alpha=0.7)
plt.savefig("plots/num_universities_trends.png", dpi=300, bbox_inches='tight')
plt.show()


# Merge total_score_df and num_universities_df to new agg_df
agg_df = total_score_df.merge(num_univ_df, on=["year", "country"], how="left")

# Make avg_score_df in which avg_score = total_score / num_universities
agg_df["avg_score"] = agg_df["total_score"] / agg_df["num_universities"]

print(agg_df.head())


# Boxplot for avg_score
plt.figure(figsize=(8, 4))
plt.boxplot(agg_df["avg_score"], vert=False, patch_artist=True, 
            boxprops=dict(facecolor="lightcoral"))
plt.title("Boxplot of Average Score (All Years)")
plt.xlabel("Average Score")
plt.grid(axis='x', linestyle='--', alpha=0.7)
plt.savefig("plots/avearge_scores_trends.png", dpi=300, bbox_inches='tight')
plt.show()








# ---------- Build aggregated dataset ----------
def build_agg_from_raw(df_clean: pd.DataFrame) -> pd.DataFrame:
    """
    Expects columns: ['university','year','score','country'].
    Returns agg_df with: ['year','country','total_score','num_universities','avg_score'].
    """
    required_cols = {"university", "year", "score", "country"}
    missing = required_cols - set(df_clean.columns)
    if missing:
        raise KeyError(f"Missing columns: {sorted(missing)}")

    # Drop rows with NaNs in essential columns
    df = df_clean.dropna(subset=["country", "year", "score", "university"]).copy()
    df["year"] = df["year"].astype(int)

    # One groupby-agg for both metrics
    agg_df = (
        df.groupby(["year", "country"], as_index=False)
          .agg(
              total_score=("score", "sum"),
              num_universities=("university", "nunique")
          )
    )

    # Average score per university
    agg_df["avg_score"] = agg_df["total_score"] / agg_df["num_universities"]

    return agg_df

agg_df.to_csv("tables/agg_university_metrics.csv", index=False)

# ---------- 2) Helper to get top-K per year ----------
def top_k_per_year(df_clean: pd.DataFrame, value_col: str, k: int = 10) -> pd.DataFrame:
    need = {"year", "country", value_col}
    if not need.issubset(df.columns):
        raise KeyError(f"DataFrame must contain: {sorted(need)}")
    return (
        df.sort_values(["year", value_col], ascending=[True, False], kind="mergesort")
          .groupby("year", group_keys=False)
          .head(k)
          .reset_index(drop=True)
    )

# ---------- 3) Plotters (one per metric) ----------
def plot_top10_total_score_per_year(agg_df: pd.DataFrame, k: int = 10):
    for y in sorted(agg_df["year"].unique()):
        d = (agg_df[agg_df["year"] == y]
             .sort_values("total_score", ascending=False)
             .head(k).iloc[::-1])
        plt.figure(figsize=(10, 6))
        plt.barh(d["country"], d["total_score"])
        for i, v in enumerate(d["total_score"]):
            plt.text(v, i, f"{v:.1f}", va="center", ha="left")
        plt.title(f"Top {k} Countries by Total Score ({y})")
        plt.xlabel("Total Score")
        plt.tight_layout()
        plt.show()


def plot_top10_avg_score_per_year(agg_df: pd.DataFrame, k: int = 10):
    for y in sorted(agg_df["year"].unique()):
        d = (agg_df[agg_df["year"] == y]
             .sort_values("avg_score", ascending=False)
             .head(k).iloc[::-1])
        plt.figure(figsize=(10, 6))
        plt.barh(d["country"], d["avg_score"])
        # label with both avg and number of universities
        for i, (v, n) in enumerate(zip(d["avg_score"], d["num_universities"])):
            plt.text(v, i, f"{v:.1f}  |  {n} univ", va="center", ha="left")
        plt.title(f"Top {k} Countries by Average Score ({y})")
        plt.xlabel("Average Score per University")
        plt.tight_layout()
        plt.show()


def plot_top10_num_universities_per_year(agg_df: pd.DataFrame, k: int = 10):
    for y in sorted(agg_df["year"].unique()):
        d = (agg_df[agg_df["year"] == y]
             .sort_values("num_universities", ascending=False)
             .head(k).iloc[::-1])
        plt.figure(figsize=(10, 6))
        plt.barh(d["country"], d["num_universities"])
        for i, v in enumerate(d["num_universities"]):
            plt.text(v, i, f"{v}", va="center", ha="left")
        plt.title(f"Top {k} Countries by Number of Universities ({y})")
        plt.xlabel("Number of Universities")
        plt.tight_layout()
        plt.show()


# ---------- 4) Example usage ----------
# raw df name assumed to be `df` with cols: university, year, score, country
# agg_df = build_agg_from_raw(df)

# Tables (if you need them):
# top10_total = top_k_per_year(agg_df[["year","country","total_score"]], "total_score", k=10)
# top10_avg   = top_k_per_year(agg_df[["year","country","avg_score","num_universities"]], 
        #"avg_score", k=10)
# top10_count = top_k_per_year(agg_df[["year","country","num_universities"]], 
        #"num_universities", k=10)

# Plots:
# plot_top10_total_score_per_year(agg_df, k=10)
# plot_top10_avg_score_per_year(agg_df, k=10)
# plot_top10_num_universities_per_year(agg_df, k=10)


plot_top10_total_score_per_year(agg_df, k=10)
plot_top10_avg_score_per_year(agg_df, k=10)
plot_top10_num_universities_per_year(agg_df, k=10)


# Time Series trends for the top 10 countires  

def plot_score_trends(agg_df: pd.DataFrame, metric: str = "total_score", top_n: int = 5):
    """
    Plots time-series trends for the top N countries based on the last available year.
    
    Parameters
    ----------
    agg_df : pd.DataFrame
        Must contain ['year','country', metric].
    metric : str
        One of ['total_score', 'avg_score', 'num_universities'].
    top_n : int
        Number of countries to plot (selected from the last year).
    """
    if metric not in agg_df.columns:
        raise KeyError(f"Metric '{metric}' not found in DataFrame.")

    # --- Determine top N countries based on last year ---
    last_year = agg_df["year"].max()
    top_countries = (
        agg_df[agg_df["year"] == last_year]
        .nlargest(top_n, metric)["country"]
        .tolist()
    )

    # --- Filter for those countries only ---
    plot_df = agg_df[agg_df["country"].isin(top_countries)].copy()

    # --- Plot ---
    plt.figure(figsize=(10, 6))
    sns.lineplot(data=plot_df, x="year", y=metric, hue="country", marker="o")

    plt.title(f"{metric.replace('_', ' ').title()} Trends for Top {top_n} Countries")
    plt.xlabel("Year")
    plt.ylabel(metric.replace("_", " ").title())
    plt.grid(True, linestyle="--", alpha=0.5)
    plt.legend(title="Country", bbox_to_anchor=(1.05, 1), loc="upper left")
    plt.tight_layout()
    plt.show()


plot_score_trends(agg_df, metric="total_score", top_n=10)








# Load datasets
gdp_df = pd.read_csv("data/gdp.csv")
edu_df = pd.read_csv("data/gov_exp_on_edu.csv")
gov_df = pd.read_csv("data/gov_effect_score .csv")
res_df = pd.read_csv("data/res_dev.csv")


gdp_df


edu_df


# Get basic information
gdp_df.info()
edu_df.info()
gov_df.info()
res_df.info()





def clean_worldbank_df(df, country_col="Country Name", last_country="Zimbabwe"):
    """
    Cleans a World Bank dataset by:
    - Dropping fully empty rows
    - Keeping only rows from the start until the last country (e.g., Zimbabwe)
    - Resetting the index
    
    Parameters
    ----------
    df : pd.DataFrame
        The dataset to clean
    country_col : str
        Name of the column containing country names
    last_country : str
        The last valid country in the dataset (default: 'Zimbabwe')
    
    Returns
    -------
    pd.DataFrame
        Cleaned dataset
    """
    # Remove completely empty rows
    df = df.dropna(how="all")
    
    # Keep only up to last_country
    last_country_idx = df[df[country_col] == last_country].index
    if not last_country_idx.empty:
        df = df.loc[:last_country_idx[0]]
    
    # Reset index
    df = df.reset_index(drop=True)
    
    return df

# Apply to all datasets
gdp_df = clean_worldbank_df(gdp_df)
edu_df = clean_worldbank_df(edu_df)
gov_df = clean_worldbank_df(gov_df)
res_df = clean_worldbank_df(res_df)

# Quick check
print(gdp_df.tail(3))








def check_missing_values(df: pd.DataFrame, dataset_name: str = "Dataset",
                         year_min: int = 2017, year_max: int = 2022):
    """
    Cleans '..' placeholders to NaN, checks missing values ONLY for years in [year_min, year_max],
    and returns cleaned DataFrame + summary.
    """
    df_clean = (
        df.copy()
          .replace(r"^\s*\.\.\s*$", np.nan, regex=True)
          .infer_objects(copy=False)
    )

    # Detect year columns
    def _extract_year(col):
        m = re.match(r"^\s*((19|20)\d{2})", str(col))
        return int(m.group(1)) if m else None

    year_cols = [c for c in df_clean.columns
                 if (y := _extract_year(c)) is not None and year_min <= y <= year_max]

    if not year_cols:
        print(f"[{dataset_name}] No year columns found in {year_min}–{year_max} range.")
        return df_clean, pd.DataFrame()

    # Missing summary only for relevant years
    missing_summary = df_clean[year_cols].isna().sum().to_frame(name="missing_count")
    missing_summary["missing_pct"] = (missing_summary["missing_count"] / len(df_clean)) * 100

    print(f"=== Missing Values Summary ({year_min}–{year_max}): {dataset_name} ===")
    print(missing_summary)

    return df_clean, missing_summary


df_clean_gdp, missing_summary_gdp = check_missing_values(gdp_df)


df_clean_edu, missing_summary_edu = check_missing_values(edu_df)


df_clean_gov, missing_summary_gov = check_missing_values(gov_df)


df_clean_res, missing_summary_res = check_missing_values(res_df)


def _yr_cols_2017_2022(df):
    yrs = []
    for c in df.columns:
        m = re.search(r'(19|20)\d{2}', str(c))
        if m:
            y = int(m.group(0))
            if 2017 <= y <= 2022:
                yrs.append((c, y))
    # sort chronologically by the year found in the name
    yrs.sort(key=lambda t: t[1])
    return [c for c, _ in yrs]

def clean_interp_2017_2022(df: pd.DataFrame):
    """
    - Finds columns whose names contain a year in [2017..2022]
    - Replaces '..' with NaN, coerces to numeric
    - Row-wise linear interpolation across 2017..2022
    - Returns (clean_df, report_df)
    """
    year_cols = _yr_cols_2017_2022(df)
    if not year_cols:
        raise ValueError("No 2017–2022 year-like columns found.")

    out = df.copy()

    # Clean and coerce
    out[year_cols] = out[year_cols].replace(r'^\s*\.\.\s*$', np.nan, regex=True)
    out[year_cols] = out[year_cols].apply(pd.to_numeric, errors="coerce")

    # Missing report (before)
    before = out[year_cols].isna().sum()
    total_before = int(before.sum())
    rows_all_na_before = int(out[year_cols].isna().all(axis=1).sum())

    # Interpolate left↔right across years
    out[year_cols] = out[year_cols].interpolate(axis=1, limit_direction="both")

    # Missing report (after)
    after = out[year_cols].isna().sum()
    total_after = int(after.sum())
    rows_all_na_after = int(out[year_cols].isna().all(axis=1).sum())

    report = (
        pd.DataFrame({"missing_before": before, "missing_after": after})
          .assign(reduced=lambda d: d.missing_before - d.missing_after)
    )

    # Quick summary
    print("=== Year columns (2017–2022) ===")
    print(year_cols)
    print("\n=== Missing by column (before → after, reduced) ===")
    display(report)
    print("\n=== Overall ===")
    print(f"Total NaNs BEFORE: {total_before:,}")
    print(f"Total NaNs AFTER : {total_after:,}")
    print(f"Total Reduction  : {total_before - total_after:,}")
    print(f"Rows all-NaN across year cols BEFORE: {rows_all_na_before:,}")
    print(f"Rows all-NaN across year cols AFTER : {rows_all_na_after:,}")

    return out, report

# --- Example usage on any dataset shaped like World Bank data ---
# df_gdp_clean, gdp_report = clean_interp_2017_2022(df_gdp)
# df_edu_clean, edu_report = clean_interp_2017_2022(df_edu)
# df_rnd_clean, rnd_report = clean_interp_2017_2022(df_rnd)


df_gdp_clean, gdp_report = clean_interp_2017_2022(gdp_df)


df_edu_clean, edu_report = clean_interp_2017_2022(edu_df)
df_edu_clean.to_csv("tables/df_edu_clean.csv")


df_gov_clean, gov_report = clean_interp_2017_2022(gov_df)
df_gov_clean.to_csv("tables/df_gov_clean.csv")


df_res_clean, res_report = clean_interp_2017_2022(res_df)
df_res_clean.to_csv("tables/df_res_clean.csv")


# Show rows that still have at least one NaN in the year columns
year_cols = ['2017 [YR2017]', '2018 [YR2018]', '2019 [YR2019]',
             '2020 [YR2020]', '2021 [YR2021]', '2022 [YR2022]']

missing_rows = df_clean_res[df_clean_res[year_cols].isna().any(axis=1)]

print(missing_rows)
print(f"Number of rows with missing values after interpolation: {len(missing_rows)}")


missing_countries = df_clean_res.loc[df_clean_res[year_cols].isna().any(axis=1), 'Country Name'].unique()
print(missing_countries)


missing_countries = df_clean_res.loc[
    df_clean_res[year_cols].isna().any(axis=1),
    'Country Name'
].unique()

# Print list
print(missing_countries)

# Print total count
print(f"\nTotal missing countries: {len(missing_countries)}")


# Rows where ANY of the year columns is NaN
mask_missing = df_clean_res[year_cols].isna().any(axis=1)

# Unique countries with missing data
missing_countries = df_clean_res.loc[mask_missing, 'Country Name'].unique()

# Total number of rows with missing data
total_missing_rows = mask_missing.sum()

# Print results
print(missing_countries)
print(f"\nTotal missing countries: {len(missing_countries)}")
print(f"Total rows with missing data: {total_missing_rows}")


# Melt to long format for easier inspection
missing_long = df_clean_res.melt(
    id_vars=['Country Name'],
    value_vars=year_cols,
    var_name='Year',
    value_name='Value'
)

# Keep only missing values
missing_long = missing_long[missing_long['Value'].isna()]
print(missing_long.sort_values(['Country Name', 'Year']))


# Mask: countries with all year columns NaN
mask_all_missing = df_clean_res[year_cols].isna().all(axis=1)

# Get list of countries
countries_all_missing = df_clean_res.loc[mask_all_missing, 'Country Name'].unique()

# Total number of such countries
total_countries_all_missing = len(countries_all_missing)

# Total number of rows for them
total_rows_all_missing = df_clean_res.loc[mask_all_missing].shape[0]

# Print results
print("Countries with ALL NaN values in year columns:")
print(countries_all_missing)
print(f"\nTotal countries with all NaN: {total_countries_all_missing}")
print(f"Total rows with all NaN: {total_rows_all_missing}")


import os

# Ensure your year columns are defined
year_cols = ['2017 [YR2017]', '2018 [YR2018]', '2019 [YR2019]',
             '2020 [YR2020]', '2021 [YR2021]', '2022 [YR2022]']

# Melt to long format for easier inspection
missing_long = df_clean_res.melt(
    id_vars=['Country Name'],
    value_vars=year_cols,
    var_name='Year',
    value_name='Value'
)

# Keep only missing values
missing_long = missing_long[missing_long['Value'].isna()].copy()

# Optional: tidy 'Year' into a cleaner label (e.g., 2017 instead of '2017 [YR2017]')
# If you want to keep the original, skip this block.
import re
missing_long['Year_clean'] = missing_long['Year'].apply(
    lambda s: int(re.match(r'^\s*(\d{4})', str(s)).group(1)) if re.match(r'^\s*(\d{4})', str(s)) else s
)

# Sort for readability
missing_long = missing_long.sort_values(['Country Name', 'Year_clean'])

# Save to CSV (ensure directory exists)
out_dir = "tables"
os.makedirs(out_dir, exist_ok=True)
out_path = os.path.join(out_dir, "rd_missing_values_2017_2022.csv")
missing_long.to_csv(out_path, index=False)

# Display
print(missing_long[['Country Name', 'Year', 'Year_clean']])
print(f"\nSaved missing-value table to: {out_path}")





def wb_to_long_simple(
    df: pd.DataFrame,
    *,
    value_name: str,                 # e.g. "gov_effectiveness_pctile"
    series_code: str | None = None,  # e.g. "GE.PER.RNK" (recommended)
    series_name: str | None = None,  # e.g. "Government Effectiveness: Percentile Rank"
    year_min: int = 2017,
    year_max: int = 2022,
    interpolate: bool = True
) -> pd.DataFrame:
   
    """Minimal WB wide->long for 2017–2022 with optional series filter."""
    
    # Pick likely column names (kept very simple)
    name_col = ("Series Name" if "Series Name" in df.columns else
            "Indicator Name" if "Indicator Name" in df.columns else None)

    code_col = ("Series Code" if "Series Code" in df.columns else
            "Indicator Code" if "Indicator Code" in df.columns else None)

    country_col = ("Country Name" if "Country Name" in df.columns else
               "country" if "country" in df.columns else None)
    
    if country_col is None:
        raise KeyError("Need a country column (expected 'Country Name' or 'country').")

    d = df.copy()

    # Optional filter (exact match, case-insensitive)
    if series_code and code_col:
        d = d[d[code_col].astype(str).str.strip().str.casefold() == series_code.strip().casefold()]
    if series_name and name_col:
        d = d[d[name_col].astype(str).str.strip().str.casefold() == series_name.strip().casefold()]

    # Keep it simple: drop a few obvious meta cols + any Unnamed
    d = d.drop(columns=[c for c in ["Country Code", "Series Code", "Series Name", "Indicator Code", 
                                    "Indicator Name"] if c in d.columns], errors="ignore")
    d = d.loc[:, ~d.columns.str.match(r"^Unnamed")]

    # Year columns in window
    year_cols = []
    for c in d.columns:
        m = re.search(r"(19|20)\d{2}", str(c))
        if m:
            y = int(m.group(0))
            if year_min <= y <= year_max:
                year_cols.append((c, y))
    year_cols = [c for c, _ in sorted(year_cols, key=lambda t: t[1])]
    if not year_cols:
        raise ValueError(f"No year columns detected in {year_min}-{year_max}.")

    # Clean + numeric + (optional) interpolate across years
    d[year_cols] = d[year_cols].replace(r"^\s*\.\.\s*$", np.nan, regex=True).apply(pd.to_numeric, 
                                                                                   errors="coerce")
    if interpolate:
        d[year_cols] = d[year_cols].interpolate(axis=1, limit_direction="both")

    # Wide -> long
    long_df = d.melt(id_vars=[country_col], value_vars=year_cols, var_name="year_raw", 
                     value_name=value_name)
    long_df["year"] = pd.to_numeric(long_df["year_raw"].str.extract(r"(\d{4})")[0],
                                    errors="coerce").astype("Int64")
    long_df = long_df.drop(columns=["year_raw"]).dropna(subset=["year"])
    long_df["year"] = long_df["year"].astype(int)
    long_df = long_df[long_df["year"].between(year_min, year_max)]

    # Standardize country name + drop remaining NaNs
    if country_col != "country":
        long_df = long_df.rename(columns={country_col: "country"})
    return long_df.dropna(subset=[value_name]).reset_index(drop=True)


gov_pct_long = wb_to_long_simple(
    df_gov_clean,
    value_name="gov_effectiveness",
    series_code="GE.PER.RNK"  
)
print(gov_pct_long.head())


gdp_pc_long = wb_to_long_simple(
    df_gdp_clean,
    value_name="gdp_per_capita",
    series_code="NY.GDP.PCAP.CD"
)
gdp_pc_long.to_csv("tables/gdp_pc_long.csv", index = False)
print(gdp_pc_long.head())


edu_long = wb_to_long_simple(
    df_edu_clean,
    value_name="gov_edu_exp",
    series_code="SE.XPD.TOTL.GD.ZS"
)
print(edu_long.head())


res_long = wb_to_long_simple(
    df_res_clean,
    value_name="rd_exp_gdp",
    series_code="GB.XPD.RSDV.GD.ZS"
)
res_long.to_csv("tables/res_long.csv", index = False)
print(res_long.head())


res_long.isna().sum()








top10_per_year_gdp = (
    gdp_pc_long
    .sort_values(["year", "gdp_per_capita"], ascending=[True, False])
    .groupby("year")
    .head(10)
    .reset_index(drop=True)
)
top10_per_year_gdp.to_csv("tables/top10_gdp_per_year.csv", index = False)
print(top10_per_year_gdp)


# We loop through each year and make a separate plot
for year, group in top10_per_year_gdp.groupby("year"):
    plt.figure(figsize=(10, 6))
    group_sorted = group.sort_values("gdp_per_capita", ascending=False)
    plt.barh(group_sorted["country"], group_sorted["gdp_per_capita"], color="skyblue")
    plt.xlabel("GDP per Capita (US$)")
    plt.ylabel("Country")
    plt.title(f"Top 10 Countries by GDP per Capita in {year}")
    plt.gca().invert_yaxis()
    plt.tight_layout()
    plt.show()








top10_per_year_edu = (
    edu_long
    .sort_values(["year", "gov_edu_exp"], ascending=[True, False])
    .groupby("year")
    .head(10)
    .reset_index(drop=True)
)

print(top10_per_year_edu)


# Save to CSV
top10_per_year_edu.to_csv("top10_edu_per_year.csv", index=False)

# Loop through each year and make a separate plot
for year, group in top10_per_year_edu.groupby("year"):
    plt.figure(figsize=(10, 6))
    group_sorted = group.sort_values("gov_edu_exp", ascending=False)
    plt.barh(group_sorted["country"], group_sorted["gov_edu_exp"], color="skyblue")
    plt.xlabel("gov_edu_exp")
    plt.ylabel("Country")
    plt.title(f"Top 10 Countries by Gov_Edu_Exp {year}")
    plt.gca().invert_yaxis()
    plt.tight_layout()
    plt.show()





top10_per_year_gov = (
    gov_pct_long
    .sort_values(["year", "gov_effectiveness"], ascending=[True, False])
    .groupby("year")
    .head(10)
    .reset_index(drop=True)
)

print(top10_per_year_gov)


# We loop through each year and make a separate plot
for year, group in top10_per_year_gov.groupby("year"):
    plt.figure(figsize=(10, 6))
    group_sorted = group.sort_values("gov_effectiveness", ascending=False)
    plt.barh(group_sorted["country"], group_sorted["gov_effectiveness"], color="skyblue")
    plt.xlabel("Gov Effectiveness (%)")
    plt.ylabel("Country")
    plt.title(f"Top 10 Countries by R%S {year}")
    plt.gca().invert_yaxis()
    plt.tight_layout()
    plt.show()





top10_per_year_res = (
    res_long
    .sort_values(["year", "rd_exp_gdp"], ascending=[True, False])
    .groupby("year")
    .head(10)
    .reset_index(drop=True)
)

print(top10_per_year_res)


# We loop through each year and make a separate plot
for year, group in top10_per_year_res.groupby("year"):
    plt.figure(figsize=(10, 6))
    group_sorted = group.sort_values("rd_exp_gdp", ascending=False)
    plt.barh(group_sorted["country"], group_sorted["rd_exp_gdp"], color="skyblue")
    plt.xlabel("R&S (% GDPUS$)")
    plt.ylabel("Country")
    plt.title(f"Top 10 Countries by R%S {year}")
    plt.gca().invert_yaxis()
    plt.tight_layout()
    plt.show()








# Sort by year, then total_score descending
top10_total_score_df = (
    total_score_df
    .sort_values(["year", "total_score"], ascending=[True, False])
    .groupby("year")
    .head(10)  # top 10 per year
    .reset_index(drop=True)
)

print(top10_total_score_df)


from typing import Literal, Dict, Any
import pandas as pd

def compute_yearly_overlaps(
    top10_indicator: pd.DataFrame,
    top10_total_score: pd.DataFrame,
    indicator_name: str,
    *,
    year_col: str = "year",
    country_col: str = "country",
    baseline: Literal["score", "indicator", "union"] = "score",
    verbose: bool = True,
) -> tuple[pd.DataFrame, Dict[str, Any]]:
    """
    Compute year-by-year overlaps between a Top-10 indicator list and the Top-10 Total Score list.

    Parameters
    ----------
    top10_indicator : DataFrame
        Must contain columns [year_col, country_col] for the indicator Top-10 per year.
    top10_total_score : DataFrame
        Must contain columns [year_col, country_col] for the Total Score Top-10 per year.
    indicator_name : str
        A label for the indicator (e.g., "GDP", "Primary", "Gov_Effectiveness", "R&D").
    year_col : str
        Name of the year column (default "year").
    country_col : str
        Name of the country column (default "country").
    baseline : {"score", "indicator", "union"}
        What to use in the denominator for the overlap percentage:
        - "score": size of Total Score list (default; matches your previous snippets)
        - "indicator": size of the indicator list
        - "union": size of the union of both lists
    verbose : bool
        If True, prints a per-year line and totals.

    Returns
    -------
    results_df : DataFrame
        Columns: [year, indicator, overlap_count, baseline_count, overlap_pct, overlap_countries]
    totals : dict
        {
          "indicator": str,
          "total_overlap_sum": int,
          "total_baseline_sum": int,
          "total_pct_sum": float,
          "unique_overlap_countries": set,
          "unique_union_countries": set,
          "unique_overlap_pct": float
        }
    """

    # Ensure required columns exist
    for df, name in [(top10_indicator, "top10_indicator"), (top10_total_score, "top10_total_score")]:
        missing = {year_col, country_col} - set(df.columns)
        if missing:
            raise ValueError(f"{name} is missing columns: {missing}")

    # Gather all years present in either dataframe
    years = sorted(set(top10_indicator[year_col].unique()).union(set(top10_total_score[year_col].unique())))

    # Accumulators
    rows = []
    total_overlap_sum = 0
    total_baseline_sum = 0
    all_overlap_countries = set()
    all_union_countries = set()

    for year in years:
        ind_countries = set(top10_indicator.loc[top10_indicator[year_col] == year, country_col])
        score_countries = set(top10_total_score.loc[top10_total_score[year_col] == year, country_col])

        overlap = ind_countries & score_countries

        if baseline == "score":
            denom = len(score_countries)
        elif baseline == "indicator":
            denom = len(ind_countries)
        elif baseline == "union":
            denom = len(ind_countries | score_countries)
        else:
            raise ValueError("baseline must be one of {'score','indicator','union'}")

        overlap_pct = (len(overlap) / denom * 100) if denom else 0.0

        # Track totals (sum-based uses same denominator choice as your previous code: size of score list)
        total_overlap_sum += len(overlap)
        total_baseline_sum += len(score_countries)  # keep consistent with your earlier snippets

        # Unique (set-based) accumulators
        all_overlap_countries |= overlap
        all_union_countries |= (ind_countries | score_countries)

        rows.append({
            "year": year,
            "indicator": indicator_name,
            "overlap_count": len(overlap),
            "baseline_count": denom,
            "overlap_pct": round(overlap_pct, 1),
            "overlap_countries": sorted(overlap),
        })

        if verbose:
            print(f"{year} → Overlap: {len(overlap)} countries ({overlap_pct:.1f}%) → {sorted(overlap)}")

    # Totals
    total_pct_sum = (total_overlap_sum / total_baseline_sum * 100) if total_baseline_sum else 0.0
    unique_overlap_pct = (len(all_overlap_countries) / len(all_union_countries) * 100) if all_union_countries else 0.0

    if verbose:
        print("\n=== TOTAL (sum-based) ===")
        print(f"Overlaps: {total_overlap_sum} over baseline {total_baseline_sum} → {total_pct_sum:.1f}%")
        print("=== UNIQUE (set-based across period) ===")
        print(f"Unique overlap countries: {len(all_overlap_countries)} / {len(all_union_countries)} "
              f"({unique_overlap_pct:.1f}%)")

    results_df = pd.DataFrame(rows)
    totals = {
        "indicator": indicator_name,
        "total_overlap_sum": total_overlap_sum,
        "total_baseline_sum": total_baseline_sum,
        "total_pct_sum": round(total_pct_sum, 1),
        "unique_overlap_countries": all_overlap_countries,
        "unique_union_countries": all_union_countries,
        "unique_overlap_pct": round(unique_overlap_pct, 1),
    }
    return results_df, totals


gdp_df, gdp_totals = compute_yearly_overlaps(top10_per_year_gdp, top10_total_score_df, 
                                             "GDP", baseline="score")
edu_df, edu_totals = compute_yearly_overlaps(top10_per_year_edu, top10_total_score_df, 
                                             "Education", baseline="score")
gov_df, gov_totals = compute_yearly_overlaps(top10_per_year_gov, top10_total_score_df, 
                                             "Gov_Effectiveness", baseline="score")
res_df, res_totals = compute_yearly_overlaps(top10_per_year_res, top10_total_score_df, 
                                             "R&D", baseline="score")














edu_world_df = pd.read_csv("data/world-education-data.csv")


edu_world_df.dtypes


focus_cols = [
    "school_enrol_primary_pct",
    "school_enrol_secondary_pct",
    "school_enrol_tertiary_pct"
]

# 1. Overview of data types & non-null counts
print("=== Data Info ===")
edu_world_df[["country", "year"] + focus_cols].info()

# 2. Basic descriptive statistics
print("\n=== Descriptive Stats ===")
print(edu_world_df[focus_cols].describe())

# 3. Missing values count & percentage
print("\n=== Missing Values ===")
missing_summary = edu_world_df[focus_cols].isna().sum().to_frame("missing_count")
missing_summary["missing_pct"] = (missing_summary["missing_count"] / len(edu_world_df)) * 100
print(missing_summary)

# 4. Check duplicates
duplicate_rows = edu_world_df.duplicated(subset=["country", "year"])
print(f"\nNumber of duplicate country-year rows: {duplicate_rows.sum()}")

# 5. Sample rows
print("\n=== Sample Data ===")
print(edu_world_df[["country", "year"] + focus_cols].sample(5))





focus_cols = [
    "school_enrol_primary_pct",
    "school_enrol_secondary_pct",
    "school_enrol_tertiary_pct",
]

# 0) Ensure numeric (coerce weird strings like '..' to NaN)
for c in focus_cols:
    edu_world_df[c] = pd.to_numeric(edu_world_df[c], errors="coerce")

# 1) Sort so interpolation makes sense over time
edu_world_df = edu_world_df.sort_values(["country", "year"])

# 2) Interpolate within each country (keeps index aligned)
edu_world_df[focus_cols] = (
    edu_world_df
      .groupby("country")[focus_cols]
      .transform(lambda g: g.interpolate(method="linear"))
)

# 3) Optional: fill any edges that interpolation can’t fill
edu_world_df[focus_cols] = (
    edu_world_df
      .groupby("country")[focus_cols]
      .transform(lambda g: g.ffill().bfill())
)

# 4) Quick check
print(edu_world_df[focus_cols].isna().sum())


# Missing counts
missing_counts = edu_world_df[focus_cols].isna().sum()

# Missing percentages
missing_pct = (missing_counts / len(edu_world_df)) * 100

# Combine into a nice DataFrame
missing_summary = pd.DataFrame({
    "missing_count": missing_counts,
    "missing_pct": missing_pct.round(2)  # Round to 2 decimal places
})

print(missing_summary)


# Duplicates by country-year
dups = edu_world_df.duplicated(["country", "year"]).sum()
print("Duplicate country-year rows:", dups)


# 2) Standardize country names (example)
edu_world_df["country"] = edu_world_df["country"].str.strip()
total_score_df["country"] = total_score_df["country"].str.strip()

# 3) Ensure numeric data for enrollment
for col in ["school_enrol_primary_pct", "school_enrol_secondary_pct", "school_enrol_tertiary_pct"]:
    edu_world_df[col] = pd.to_numeric(edu_world_df[col], errors="coerce")

# 4) Merge datasets on country & year
merged_edu_ind = pd.merge(
    total_score_df, 
    edu_world_df, 
    on=["country", "year"], 
    how="inner"
)

# Drop rows with missing values for correlation
merged_edu_ind = merged_edu_ind.dropna(subset=["total_score", "school_enrol_primary_pct",
                                               "school_enrol_secondary_pct", "school_enrol_tertiary_pct"])

print(merged_edu_ind.head())


keep_cols = [
    "country",
    "year",
    "total_score",
    "school_enrol_primary_pct",
    "school_enrol_secondary_pct",
    "school_enrol_tertiary_pct"
]

merged_edu_ind_subset = merged_edu_ind[keep_cols].copy()

print(merged_edu_ind_subset.head())





# --- Top 10 Primary ---
top10_primary = (
    merged_edu_ind_subset
    .sort_values(["year", "school_enrol_primary_pct"], ascending=[True, False])
    .groupby("year")
    .head(10)
    .reset_index(drop=True))


print(top10_primary.head(10))





# --- Top 10 Secondary ---
top10_secondary = (
   merged_edu_ind_subset
    .sort_values(["year", "school_enrol_secondary_pct"], ascending=[True, False])
    .groupby("year")
    .head(10)
    .reset_index(drop=True)
)


print(top10_secondary.head(10))





# --- Top 10 Tertiary ---
top10_tertiary = (
    merged_edu_ind_subset
    .sort_values(["year", "school_enrol_tertiary_pct"], ascending=[True, False])
    .groupby("year")
    .head(10)
    .reset_index(drop=True)
)


print(top10_tertiary.head(10))





# We perform the overlap analysis for the three educational indicators and total_score

prim_df, prim_totals = compute_yearly_overlaps(top10_primary,
                                               top10_total_score_df, "Primary",  baseline="score")
sec_df,  sec_totals  = compute_yearly_overlaps(top10_secondary,
                                               top10_total_score_df, "Secondary", baseline="score")
ter_df,  ter_totals  = compute_yearly_overlaps(top10_tertiary,
                                               top10_total_score_df, "Tertiary",  baseline="score")








# --- Overlap data ---
data = {
    "Year": [2017, 2018, 2019, 2020, 2021, 2022],
    "Primary":   [10.0, 10.0, 10.0, 20.0, 10.0, 10.0],
    "Secondary": [30.0, 30.0, 20.0, 20.0, 20.0, 20.0],
    "Tertiary":  [30.0, 30.0, 30.0, 30.0, 20.0, 20.0]
}

df = pd.DataFrame(data)

# --- Plot ---
plt.figure(figsize=(10, 6))
bar_width = 0.25
x = range(len(df["Year"]))

plt.bar([p - bar_width for p in x], df["Primary"], width=bar_width, label="Primary")
plt.bar(x, df["Secondary"], width=bar_width, label="Secondary")
plt.bar([p + bar_width for p in x], df["Tertiary"], width=bar_width, label="Tertiary")

# --- Styling ---
plt.xticks(x, df["Year"])
plt.ylabel("Overlap %")
plt.xlabel("Year")
plt.title("Top-10 Overlap by Enrollment Indicator (2017–2022)")
plt.ylim(0, 40)
plt.legend()
plt.grid(axis="y", linestyle="--", alpha=0.7)

plt.tight_layout()
plt.show()














# Merge GDP with ranking stats
merged_df = pd.merge(gdp_pc_long, total_score_df, on=["country", "year"])

# Final columns: country, year, gdp_per_capita, score, university_count
merged_df.head(5)








# Merge GDP with ranking stats
merged_df_edu = pd.merge(edu_long, total_score_df, on=["country", "year"])

# Final columns: country, year, gdp_per_capita, score, university_count
merged_df_edu.head(5)


# Merge Gov effectivness with ranking stats
merged_df_gov = pd.merge(gov_pct_long, total_score_df, on=["country", "year"])

# Final columns: country, year, gdp_per_capita, score, university_count
merged_df_gov.head(5)





merged_rd = pd.merge(res_long, total_score_df, on=["country", "year"],
    how="inner"
)
# Final columns: country, year, gdp_per_capita, score, university_count
merged_rd.head(5)





def correlation_analysis(df, target_col, predictor_col, title):
    """
    Compute Pearson, Spearman, and Kendall correlations 
    between target_col and predictor_col in df.
    """
    # Ensure numeric
    df[target_col] = pd.to_numeric(df[target_col], errors='coerce')
    df[predictor_col] = pd.to_numeric(df[predictor_col], errors='coerce')
    
    # Drop missing rows
    corr_df = df.dropna(subset=[target_col, predictor_col])
    
    # Calculate correlations
    pearson_corr, pearson_p = pearsonr(corr_df[target_col], corr_df[predictor_col])
    spearman_corr, spearman_p = spearmanr(corr_df[target_col], corr_df[predictor_col])
    kendall_corr, kendall_p = kendalltau(corr_df[target_col], corr_df[predictor_col])
    
    # Print results
    print(f"=== Correlation with {title} ===")
    print(f"Pearson:  r = {pearson_corr:.4f}, p = {pearson_p:.4g}")
    print(f"Spearman: rho = {spearman_corr:.4f}, p = {spearman_p:.4g}")
    print(f"Kendall:  tau = {kendall_corr:.4f}, p = {kendall_p:.4g}")
    print()

# Example usage:
correlation_analysis(merged_df, 'total_score', 'gdp_per_capita', 'GDP per Capita')
correlation_analysis(merged_df_edu, 'total_score', 'gov_exp_edu', 
                    'Government Expenditure on Education')
correlation_analysis(merged_df_gov, 'total_score', 'gov_effectiveness', 
                    'Government Effectiveness')
correlation_analysis(merged_rd, 'total_score', 'rd_exp_gdp', 'R&D Expenditure (% of GDP)')





indicators = ["school_enrol_primary_pct", "school_enrol_secondary_pct", "school_enrol_tertiary_pct"]

results = []
for ind in indicators:
    pearson_r, pearson_p = pearsonr(merged_edu_ind[ind], merged_edu_ind["total_score"])
    spearman_r, spearman_p = spearmanr(merged_edu_ind[ind], merged_edu_ind["total_score"])
    kendall_r, kendall_p = kendalltau(merged_edu_ind[ind], merged_edu_ind["total_score"])
    
    results.append({
        "Indicator": ind,
        "Pearson_r": pearson_r, "Pearson_p": pearson_p,
        "Spearman_r": spearman_r, "Spearman_p": spearman_p,
        "Kendall_tau": kendall_r, "Kendall_p": kendall_p
    })

corr_df = pd.DataFrame(results)
print(corr_df)

































