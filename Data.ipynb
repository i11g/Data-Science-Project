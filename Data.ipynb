{
 "cells": [
  {
   "cell_type": "markdown",
   "id": "412b3edf-0876-41e3-a743-fd8bf99d106a",
   "metadata": {},
   "source": [
    "# Forecasting Country-Level University Rankings Using Economic and Educational Indicators: A Comparative Modeling Approach (2017–2024)"
   ]
  },
  {
   "cell_type": "markdown",
   "id": "14f2e054-637c-46c8-9fc9-9ac13d86849d",
   "metadata": {},
   "source": [
    "### Author Ivan Georgiev Georgiev "
   ]
  },
  {
   "cell_type": "markdown",
   "id": "af912e7e-e5be-4dbd-ae37-6520d1e6fbd9",
   "metadata": {},
   "source": [
    "## Abstract \n",
    "\n",
    "This project explores the feasibility of forecasting global university rankings at the country level using macroeconomic and educational indicators. Drawing on data from the QS World University Rankings (2017–2022) and country-level variables such as GDP per capita, literacy rate, and R&D expenditure, the analysis aims to predict each country’s average university rank in 2024.\n",
    "\n",
    "To accomplish this, we apply and compare a set of forecasting methods, including:\n",
    "- Linear Trend Extrapolation\n",
    "- Multivariate Monte Carlo Simulation\n",
    "- Prophet with Regressors\n",
    "- ARIMA with Exogenous Variables (ARIMAX)\n",
    "- Baseline models (Moving Average, Exponential Smoothing)\n",
    "\n",
    "Each model offers a different perspective—some prioritize time dynamics, while others emphasize economic context and uncertainty. Forecasts are validated using actual 2024 QS rankings where available. The results highlight both the predictive power of national-level indicators and the strengths and weaknesses of each forecasting technique.\n",
    "\n",
    "This work provides a data-driven framework for understanding the evolution of educational performance across countries and suggests how policymakers and academic stakeholders might respond to long-term trends in global rankings. "
   ]
  },
  {
   "cell_type": "markdown",
   "id": "75e05b90-bcee-4fe7-982d-6b04cc9f6bf9",
   "metadata": {},
   "source": [
    "## Introduction \n",
    "The QS World University Rankings provide an annual benchmark for academic performance globally. Forecasting university rankings at the country level can help identify macroeconomic and policy factors that drive academic excellence and anticipate future shifts in global education.\n",
    "\n",
    "We use four forecasting models to estimate the average country-level QS university ranking for 2024. Each model is based on different mathematical principles:\n",
    "\n",
    "1. Linear Trend Extrapolation\n",
    "We fit a linear regression model to each country’s historical average rank over time:\n",
    "\n",
    "\n",
    "\n",
    "\n",
    "Each model captures different assumptions: trend continuity (linear), economic impact (Monte Carlo), recent stability (MA), or momentum (smoothing). These approaches are compared quantitatively and visually in later sections."
   ]
  },
  {
   "cell_type": "markdown",
   "id": "c04b64c5-3c84-400b-b935-f7579340c0f4",
   "metadata": {},
   "source": [
    "## Objective\n",
    "This project investigates whether global university rankings at the country level can be forecasted using key economic and educational indicators. Specifically, it aims to predict the average QS World University Rank per country for the year 2024 based on historical data (2017–2022) and variables such as GDP per capita, literacy rate, and R&D expenditure.\n",
    "\n",
    "Motivation\n",
    "University rankings play a critical role in shaping international education policy, research funding, and student decision-making. While many analyses focus on institutional performance, this project shifts the lens to the country level, offering insights into how macroeconomic and social conditions influence national academic outcomes.\n",
    "\n",
    "Research Questions\n",
    "\n",
    "To what extent do indicators like GDP per capita, literacy rate, and R&D investment correlate with average university rank?\n",
    "\n",
    "Can time series and regression-based models accurately forecast future rankings using this data?\n",
    "\n",
    "Which forecasting methods provide the most reliable and interpretable predictions?\n",
    "\n",
    "Significance\n",
    "The ability to anticipate changes in a country's academic standing can inform education policy, international collaboration, and investment decisions. It also helps identify which countries are likely to improve or decline in global academic competitiveness — and why. "
   ]
  },
  {
   "cell_type": "markdown",
   "id": "7e0d53d4-4fef-4434-8306-a58d5cff7404",
   "metadata": {},
   "source": [
    "## Exploratory Data Analysis (EDA)"
   ]
  },
  {
   "cell_type": "markdown",
   "id": "b7725cdc-fc37-4923-8463-a9627633f19e",
   "metadata": {},
   "source": [
    "Objective\n",
    "The EDA section examines how country-level indicators relate to average QS university rankings and identifies patterns, trends, and correlations in the data from 2017–2022.\n",
    "\n",
    "Key Analyses & Visuals\n",
    "Distribution of Country Rankings\n",
    "\n",
    "Histogram of average ranks across countries.\n",
    "\n",
    "Boxplots grouped by income level or region.\n",
    "\n",
    "Correlation Heatmap\n",
    "\n",
    "Pearson correlations between:\n",
    "\n",
    "Average QS rank\n",
    "\n",
    "GDP per capita\n",
    "\n",
    "Literacy rate\n",
    "\n",
    "R&D expenditure\n",
    "\n",
    "Expect negative correlation (e.g., higher GDP → better rank [lower number]).\n",
    "\n",
    "Time Series Trends\n",
    "\n",
    "Line plots for selected countries showing:\n",
    "\n",
    "Rank trend (2017–2022)\n",
    "\n",
    "GDP/literacy/R&D over time\n",
    "\n",
    "Top & Bottom Performers\n",
    "\n",
    "Table or bar plot of top 10 and bottom 10 countries by average rank.\n",
    "\n",
    "Scatterplots\n",
    "\n",
    "GDP vs. rank, Literacy vs. rank, R&D vs. rank\n",
    "\n",
    "Add regression line and confidence interval.\n",
    "\n",
    "Interpretation Example:\n",
    "\"Countries with higher GDP and R&D spending generally show stronger average university rankings. However, outliers exist, suggesting that other factors (e.g., education policy, culture) may also influence rank.\""
   ]
  },
  {
   "cell_type": "markdown",
   "id": "3ce9530c-a005-4dea-ba68-381532e0fd12",
   "metadata": {},
   "source": [
    "## Models Predictions"
   ]
  },
  {
   "cell_type": "markdown",
   "id": "1fd811bf-0b7c-486f-9e05-e3e6f2e5eaf9",
   "metadata": {},
   "source": [
    "## Results & Model Comparison"
   ]
  },
  {
   "cell_type": "markdown",
   "id": "9f59d838-d8a2-440f-9bd4-4f2b614405e0",
   "metadata": {},
   "source": [
    "Forecast Outputs\n",
    "Summarize predictions for 2024 from all models (as described in the comparison table above):\n",
    "\n",
    "Country\tLinear\tMonte Carlo\tProphet\tARIMAX\tActual (2024)\n",
    "USA\t53.2\t52.9 ± 1.4\t53.1\t53.4\t52.8\n",
    "\n",
    "Plot bar graphs or line charts showing:\n",
    "\n",
    "Predicted vs. actual\n",
    "\n",
    "Model uncertainty (for Monte Carlo, Prophet, ARIMAX)\n",
    "\n",
    "Model Evaluation\n",
    "If actual 2024 data is available:\n",
    "\n",
    "Use MAE, RMSE, and MAPE as metrics.\n",
    "\n",
    "Compare performance across countries and models.\n",
    "\n",
    "Example Discussion Points:\n",
    "\"Monte Carlo and ARIMAX produced the lowest MAE for high-ranking countries.\"\n",
    "\n",
    "\"Prophet struggled in countries with unstable GDP trends.\"\n",
    "\n",
    "\"Linear trend was consistent but less sensitive to economic shifts.\""
   ]
  },
  {
   "cell_type": "markdown",
   "id": "0e8e2b47-57a7-4356-bf13-f1eee1cfbb5d",
   "metadata": {},
   "source": [
    "## Conclusion "
   ]
  },
  {
   "cell_type": "markdown",
   "id": "da2dd411-d25d-41d2-aa8c-b8ef5f781852",
   "metadata": {},
   "source": [
    "Summary of Findings\n",
    "Economic and educational indicators have strong predictive power for national-level university rankings.\n",
    "\n",
    "GDP per capita and R&D spending were the most influential variables.\n",
    "\n",
    "ARIMAX and Monte Carlo performed best overall, balancing accuracy and interpretability.\n",
    "\n",
    "Limitations\n",
    "Rankings are partly subjective and may not fully reflect educational quality.\n",
    "\n",
    "External factors (e.g., geopolitical shifts, funding cuts, pandemic effects) are not modeled.\n",
    "\n",
    "Data availability and consistency varied by country.\n",
    "\n",
    "Future Work\n",
    "Include more indicators: internet access, tertiary enrollment rate, faculty-to-student ratio.\n",
    "\n",
    "Expand to university-level forecasting (not just country-level).\n",
    "\n",
    "Deploy an interactive dashboard or app to visualize predictions dynamically."
   ]
  }
 ],
 "metadata": {
  "kernelspec": {
   "display_name": "Python (myenv)",
   "language": "python",
   "name": "myenv"
  },
  "language_info": {
   "codemirror_mode": {
    "name": "ipython",
    "version": 3
   },
   "file_extension": ".py",
   "mimetype": "text/x-python",
   "name": "python",
   "nbconvert_exporter": "python",
   "pygments_lexer": "ipython3",
   "version": "3.12.3"
  }
 },
 "nbformat": 4,
 "nbformat_minor": 5
}
